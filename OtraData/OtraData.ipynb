{
 "cells": [
  {
   "cell_type": "markdown",
   "metadata": {},
   "source": [
    "Abrir archivo de homicidios y lesionados, estos estaban en anexo:"
   ]
  },
  {
   "cell_type": "markdown",
   "metadata": {},
   "source": [
    "LESIONADOS"
   ]
  },
  {
   "cell_type": "code",
   "execution_count": 81,
   "metadata": {},
   "outputs": [],
   "source": [
    "# Librerías:\n",
    "import openpyxl\n",
    "import pandas as pd\n",
    "import os\n",
    "from datetime import datetime\n",
    "\n",
    "import requests\n",
    "import csv\n"
   ]
  },
  {
   "cell_type": "code",
   "execution_count": 82,
   "metadata": {},
   "outputs": [],
   "source": [
    "# Ruta al archivo Excel\n",
    "archivo_excel = \"lesion_solit.xlsx\""
   ]
  },
  {
   "cell_type": "code",
   "execution_count": 83,
   "metadata": {},
   "outputs": [],
   "source": [
    "# Cargar el archivo\n",
    "libro_trabajo = openpyxl.load_workbook(archivo_excel)"
   ]
  },
  {
   "cell_type": "code",
   "execution_count": 84,
   "metadata": {},
   "outputs": [],
   "source": [
    "# Obtener la hoja activa (por defecto)\n",
    "hoja_activa = libro_trabajo.active"
   ]
  },
  {
   "cell_type": "code",
   "execution_count": 85,
   "metadata": {},
   "outputs": [],
   "source": [
    "# Obtener la hoja activa (por defecto)\n",
    "hoja_activa = libro_trabajo.active"
   ]
  },
  {
   "cell_type": "code",
   "execution_count": 86,
   "metadata": {},
   "outputs": [],
   "source": [
    "# Leer una celda\n",
    "celda = hoja_activa['A1']\n",
    "valor = celda.value"
   ]
  },
  {
   "cell_type": "code",
   "execution_count": 87,
   "metadata": {},
   "outputs": [
    {
     "name": "stdout",
     "output_type": "stream",
     "text": [
      "ID hecho\n"
     ]
    }
   ],
   "source": [
    "# Imprimir el valor de la celda\n",
    "print(valor)"
   ]
  },
  {
   "cell_type": "code",
   "execution_count": 88,
   "metadata": {},
   "outputs": [],
   "source": [
    "# Llevar el archivo excel a un dataframe\n",
    "df = pd.read_excel(\"lesion_solit.xlsx\")"
   ]
  },
  {
   "cell_type": "markdown",
   "metadata": {},
   "source": [
    "Se realiza ETL:"
   ]
  },
  {
   "cell_type": "code",
   "execution_count": 89,
   "metadata": {},
   "outputs": [
    {
     "data": {
      "text/html": [
       "<div>\n",
       "<style scoped>\n",
       "    .dataframe tbody tr th:only-of-type {\n",
       "        vertical-align: middle;\n",
       "    }\n",
       "\n",
       "    .dataframe tbody tr th {\n",
       "        vertical-align: top;\n",
       "    }\n",
       "\n",
       "    .dataframe thead th {\n",
       "        text-align: right;\n",
       "    }\n",
       "</style>\n",
       "<table border=\"1\" class=\"dataframe\">\n",
       "  <thead>\n",
       "    <tr style=\"text-align: right;\">\n",
       "      <th></th>\n",
       "      <th>ID hecho</th>\n",
       "      <th>AAA</th>\n",
       "      <th>MM</th>\n",
       "      <th>DD</th>\n",
       "      <th>FECHA</th>\n",
       "      <th>VEHICULO_VICTIMA</th>\n",
       "      <th>SEXO</th>\n",
       "      <th>EDAD_VICTIMA</th>\n",
       "      <th>GRAVEDAD</th>\n",
       "    </tr>\n",
       "  </thead>\n",
       "  <tbody>\n",
       "    <tr>\n",
       "      <th>0</th>\n",
       "      <td>LC-2019-0000053</td>\n",
       "      <td>2019</td>\n",
       "      <td>1</td>\n",
       "      <td>1</td>\n",
       "      <td>2019-01-01</td>\n",
       "      <td>sd</td>\n",
       "      <td>Varon</td>\n",
       "      <td>57</td>\n",
       "      <td>SD</td>\n",
       "    </tr>\n",
       "    <tr>\n",
       "      <th>1</th>\n",
       "      <td>LC-2019-0000063</td>\n",
       "      <td>2019</td>\n",
       "      <td>1</td>\n",
       "      <td>1</td>\n",
       "      <td>2019-01-01</td>\n",
       "      <td>sd</td>\n",
       "      <td>SD</td>\n",
       "      <td>SD</td>\n",
       "      <td>SD</td>\n",
       "    </tr>\n",
       "    <tr>\n",
       "      <th>2</th>\n",
       "      <td>LC-2019-0000079</td>\n",
       "      <td>2019</td>\n",
       "      <td>1</td>\n",
       "      <td>1</td>\n",
       "      <td>2019-01-01</td>\n",
       "      <td>sd</td>\n",
       "      <td>Varon</td>\n",
       "      <td>SD</td>\n",
       "      <td>SD</td>\n",
       "    </tr>\n",
       "    <tr>\n",
       "      <th>3</th>\n",
       "      <td>LC-2019-0000082</td>\n",
       "      <td>2019</td>\n",
       "      <td>1</td>\n",
       "      <td>1</td>\n",
       "      <td>2019-01-01</td>\n",
       "      <td>sd</td>\n",
       "      <td>Varon</td>\n",
       "      <td>45</td>\n",
       "      <td>SD</td>\n",
       "    </tr>\n",
       "    <tr>\n",
       "      <th>4</th>\n",
       "      <td>LC-2019-0000082</td>\n",
       "      <td>2019</td>\n",
       "      <td>1</td>\n",
       "      <td>1</td>\n",
       "      <td>2019-01-01</td>\n",
       "      <td>sd</td>\n",
       "      <td>Mujer</td>\n",
       "      <td>45</td>\n",
       "      <td>SD</td>\n",
       "    </tr>\n",
       "    <tr>\n",
       "      <th>...</th>\n",
       "      <td>...</td>\n",
       "      <td>...</td>\n",
       "      <td>...</td>\n",
       "      <td>...</td>\n",
       "      <td>...</td>\n",
       "      <td>...</td>\n",
       "      <td>...</td>\n",
       "      <td>...</td>\n",
       "      <td>...</td>\n",
       "    </tr>\n",
       "    <tr>\n",
       "      <th>195</th>\n",
       "      <td>LC-2019-0014644</td>\n",
       "      <td>2019</td>\n",
       "      <td>1</td>\n",
       "      <td>8</td>\n",
       "      <td>2019-01-08</td>\n",
       "      <td>sd</td>\n",
       "      <td>Varon</td>\n",
       "      <td>29</td>\n",
       "      <td>SD</td>\n",
       "    </tr>\n",
       "    <tr>\n",
       "      <th>196</th>\n",
       "      <td>LC-2019-0014644</td>\n",
       "      <td>2019</td>\n",
       "      <td>1</td>\n",
       "      <td>8</td>\n",
       "      <td>2019-01-08</td>\n",
       "      <td>sd</td>\n",
       "      <td>Varon</td>\n",
       "      <td>29</td>\n",
       "      <td>SD</td>\n",
       "    </tr>\n",
       "    <tr>\n",
       "      <th>197</th>\n",
       "      <td>LC-2019-0014787</td>\n",
       "      <td>2019</td>\n",
       "      <td>1</td>\n",
       "      <td>8</td>\n",
       "      <td>2019-01-08</td>\n",
       "      <td>sd</td>\n",
       "      <td>Mujer</td>\n",
       "      <td>30</td>\n",
       "      <td>SD</td>\n",
       "    </tr>\n",
       "    <tr>\n",
       "      <th>198</th>\n",
       "      <td>LC-2019-0014790</td>\n",
       "      <td>2019</td>\n",
       "      <td>1</td>\n",
       "      <td>8</td>\n",
       "      <td>2019-01-08</td>\n",
       "      <td>sd</td>\n",
       "      <td>Varon</td>\n",
       "      <td>30</td>\n",
       "      <td>SD</td>\n",
       "    </tr>\n",
       "    <tr>\n",
       "      <th>199</th>\n",
       "      <td>LC-2019-0014956</td>\n",
       "      <td>2019</td>\n",
       "      <td>1</td>\n",
       "      <td>8</td>\n",
       "      <td>2019-01-08</td>\n",
       "      <td>sd</td>\n",
       "      <td>Varon</td>\n",
       "      <td>32</td>\n",
       "      <td>SD</td>\n",
       "    </tr>\n",
       "  </tbody>\n",
       "</table>\n",
       "<p>200 rows × 9 columns</p>\n",
       "</div>"
      ],
      "text/plain": [
       "            ID hecho   AAA  MM  DD     FECHA  VEHICULO_VICTIMA   SEXO  \\\n",
       "0    LC-2019-0000053  2019   1   1 2019-01-01               sd  Varon   \n",
       "1    LC-2019-0000063  2019   1   1 2019-01-01               sd     SD   \n",
       "2    LC-2019-0000079  2019   1   1 2019-01-01               sd  Varon   \n",
       "3    LC-2019-0000082  2019   1   1 2019-01-01               sd  Varon   \n",
       "4    LC-2019-0000082  2019   1   1 2019-01-01               sd  Mujer   \n",
       "..               ...   ...  ..  ..        ...              ...    ...   \n",
       "195  LC-2019-0014644  2019   1   8 2019-01-08               sd  Varon   \n",
       "196  LC-2019-0014644  2019   1   8 2019-01-08               sd  Varon   \n",
       "197  LC-2019-0014787  2019   1   8 2019-01-08               sd  Mujer   \n",
       "198  LC-2019-0014790  2019   1   8 2019-01-08               sd  Varon   \n",
       "199  LC-2019-0014956  2019   1   8 2019-01-08               sd  Varon   \n",
       "\n",
       "    EDAD_VICTIMA GRAVEDAD  \n",
       "0             57       SD  \n",
       "1             SD       SD  \n",
       "2             SD       SD  \n",
       "3             45       SD  \n",
       "4             45       SD  \n",
       "..           ...      ...  \n",
       "195           29       SD  \n",
       "196           29       SD  \n",
       "197           30       SD  \n",
       "198           30       SD  \n",
       "199           32       SD  \n",
       "\n",
       "[200 rows x 9 columns]"
      ]
     },
     "execution_count": 89,
     "metadata": {},
     "output_type": "execute_result"
    }
   ],
   "source": [
    "df.head(200)"
   ]
  },
  {
   "cell_type": "code",
   "execution_count": 90,
   "metadata": {},
   "outputs": [
    {
     "data": {
      "text/plain": [
       "array(['LC-2019-0000053', 'LC-2019-0000063', 'LC-2019-0000079', ...,\n",
       "       'LC-2021-0530228', 'LC-2021-0201378', 'LC-2021-0229350'],\n",
       "      dtype=object)"
      ]
     },
     "execution_count": 90,
     "metadata": {},
     "output_type": "execute_result"
    }
   ],
   "source": [
    "# Ver valores únicos\n",
    "df[\"ID hecho\"].unique()"
   ]
  },
  {
   "cell_type": "code",
   "execution_count": 91,
   "metadata": {},
   "outputs": [
    {
     "data": {
      "text/plain": [
       "array([2019, 2020, 2021], dtype=int64)"
      ]
     },
     "execution_count": 91,
     "metadata": {},
     "output_type": "execute_result"
    }
   ],
   "source": [
    "# Ver valores únicos\n",
    "df[\"AAA\"].unique() "
   ]
  },
  {
   "cell_type": "code",
   "execution_count": 92,
   "metadata": {},
   "outputs": [
    {
     "data": {
      "text/plain": [
       "array([ 1,  9, 12, 10,  5,  3,  2,  7,  6,  4,  8, 11], dtype=int64)"
      ]
     },
     "execution_count": 92,
     "metadata": {},
     "output_type": "execute_result"
    }
   ],
   "source": [
    "# Ver valores únicos\n",
    "df[\"MM\"].unique() "
   ]
  },
  {
   "cell_type": "code",
   "execution_count": 93,
   "metadata": {},
   "outputs": [
    {
     "data": {
      "text/plain": [
       "array([ 1,  2,  3, 24, 13, 19,  4, 20,  5,  6,  7,  8, 26,  9, 10, 11, 12,\n",
       "       14, 18, 15, 28, 16, 17, 21, 22, 23, 25, 27, 29, 30, 31],\n",
       "      dtype=int64)"
      ]
     },
     "execution_count": 93,
     "metadata": {},
     "output_type": "execute_result"
    }
   ],
   "source": [
    "# Ver valores únicos\n",
    "df[\"DD\"].unique() "
   ]
  },
  {
   "cell_type": "code",
   "execution_count": 94,
   "metadata": {},
   "outputs": [
    {
     "data": {
      "text/plain": [
       "array(['sd', 'MOTO', 'AUTO', 'TAXI', 'PEATON', 'CICLISTA', 'SD',\n",
       "       'TRANSPORTE PUBLICO', 'MOVIL', 'CAMION', 'UTILITARIO', 'MONOPATIN',\n",
       "       'MIXTO', 'OTRO'], dtype=object)"
      ]
     },
     "execution_count": 94,
     "metadata": {},
     "output_type": "execute_result"
    }
   ],
   "source": [
    "# Ver valores únicos\n",
    "df[\"VEHICULO_VICTIMA\"].unique() "
   ]
  },
  {
   "cell_type": "code",
   "execution_count": 95,
   "metadata": {},
   "outputs": [],
   "source": [
    "# Queremos cambiar el valor 'antiguo_valor' por 'nuevo_valor'\n",
    "df[\"VEHICULO_VICTIMA\"] = df[\"VEHICULO_VICTIMA\"].replace(\"sd\", \"SD\")"
   ]
  },
  {
   "cell_type": "code",
   "execution_count": 96,
   "metadata": {},
   "outputs": [
    {
     "data": {
      "text/plain": [
       "array(['Varon', 'SD', 'Mujer', 'varon', 'mujer', 'MUJER', 'sd', 'Mujer '],\n",
       "      dtype=object)"
      ]
     },
     "execution_count": 96,
     "metadata": {},
     "output_type": "execute_result"
    }
   ],
   "source": [
    "# Ver valores únicos\n",
    "df[\"SEXO\"].unique() "
   ]
  },
  {
   "cell_type": "code",
   "execution_count": 97,
   "metadata": {},
   "outputs": [],
   "source": [
    "# Queremos cambiar el valor 'antiguo_valor' por 'nuevo_valor'\n",
    "df[\"SEXO\"] = df[\"SEXO\"].replace(\"Varon\", \"Hombre\")\n",
    "df[\"SEXO\"] = df[\"SEXO\"].replace(\"varon\", \"Hombre\")\n",
    "df[\"SEXO\"] = df[\"SEXO\"].replace(\"mujer\", \"Mujer\")\n",
    "df[\"SEXO\"] = df[\"SEXO\"].replace(\"MUJER\", \"Mujer\")\n",
    "df[\"SEXO\"] = df[\"SEXO\"].replace(\"Mujer \", \"Mujer\")\n",
    "df[\"SEXO\"] = df[\"SEXO\"].replace(\"sd\", \"SD\")\n",
    "df[\"SEXO\"] = df[\"SEXO\"].replace(\"Mujer\", \"FEMENINO\")\n",
    "df[\"SEXO\"] = df[\"SEXO\"].replace(\"Hombre\", \"MASCULINO\")"
   ]
  },
  {
   "cell_type": "code",
   "execution_count": 98,
   "metadata": {},
   "outputs": [
    {
     "data": {
      "text/plain": [
       "array([57, 'SD', 45, 27, 32, 21, 37, 33, 25, 23, 42, 53, 1, 62, 67, 75,\n",
       "       40, 48, 3, 49, '25', 34, 52, 44, 28, 59, 50, 73, '26', 51, 16, 43,\n",
       "       38, 64, 36, 84, 22, 26, '32', 20, 5, 39, 56, 69, 55, 46, 29, 41,\n",
       "       54, 74, 70, 6, 30, 12, 83, 24, 35, 68, 15, 31, 19, '30', 9, 2, 13,\n",
       "       18, 17, 58, 60, 47, '20', 7, 63, 66, 80, 65, 71, 79, 85, 61, 77,\n",
       "       90, '43', '58', '45', 76, '54', '55', 89, '74', '19', 78, 91, 97,\n",
       "       10, 72, 88, 11, 81, '31', 8, 14, '50', '21', 96, '27', '34', '40',\n",
       "       '28', '59', '39', 82, 87, 86, '38', '37', 'sd', '44', '29', '35',\n",
       "       '42', '18', 4, '23', '41', 92, '46', '72', '36', '24', '87', '16',\n",
       "       '14', '33', '61', '12', '49', '62', '90', '22', '60', '64', '56',\n",
       "       '78', '65', '51', '53', '66', '71', '76', '47', '52', '48', '13',\n",
       "       '63', '68', '15', '57', '70', '73', '80', '67', '5', '84', '94',\n",
       "       '86', '3', '69', '6', '17', '91', '7', '8', '82', '75', '85', '77',\n",
       "       '4', '81', '83', '2', '11', '88', '9', '79', '10', 94, 0, 100, 93,\n",
       "       95], dtype=object)"
      ]
     },
     "execution_count": 98,
     "metadata": {},
     "output_type": "execute_result"
    }
   ],
   "source": [
    "# Ver valores únicos\n",
    "df[\"EDAD_VICTIMA\"].unique() "
   ]
  },
  {
   "cell_type": "code",
   "execution_count": 99,
   "metadata": {},
   "outputs": [],
   "source": [
    "# Queremos cambiar el valor 'antiguo_valor' por 'nuevo_valor'\n",
    "df[\"EDAD_VICTIMA\"] = df[\"EDAD_VICTIMA\"].replace(\"sd\", \"SD\")\n",
    "df[\"EDAD_VICTIMA\"] = df[\"EDAD_VICTIMA\"].replace(\"SD\", 0)"
   ]
  },
  {
   "cell_type": "code",
   "execution_count": 100,
   "metadata": {},
   "outputs": [],
   "source": [
    "# Cambiar obj por int\n",
    "df[\"EDAD_VICTIMA\"] = df[\"EDAD_VICTIMA\"].astype(int)"
   ]
  },
  {
   "cell_type": "code",
   "execution_count": 101,
   "metadata": {},
   "outputs": [
    {
     "data": {
      "text/plain": [
       "array(['SD', 'sd', 'GRAVE', 'grave'], dtype=object)"
      ]
     },
     "execution_count": 101,
     "metadata": {},
     "output_type": "execute_result"
    }
   ],
   "source": [
    "# Valor único\n",
    "df[\"GRAVEDAD\"].unique()"
   ]
  },
  {
   "cell_type": "code",
   "execution_count": 102,
   "metadata": {},
   "outputs": [],
   "source": [
    "# Queremos cambiar el valor 'antiguo_valor' por 'nuevo_valor'\n",
    "df[\"GRAVEDAD\"] = df[\"GRAVEDAD\"].replace(\"sd\", \"SD\")\n",
    "df[\"GRAVEDAD\"] = df[\"GRAVEDAD\"].replace(\"grave\", \"GRAVE\")"
   ]
  },
  {
   "cell_type": "code",
   "execution_count": 103,
   "metadata": {},
   "outputs": [],
   "source": [
    "# Nueva DF\n",
    "columnas_deseadas_ls = [\"ID hecho\", \"AAA\", \"MM\", \"DD\", \"VEHICULO_VICTIMA\",\n",
    "                        \"SEXO\", \"EDAD_VICTIMA\", \"GRAVEDAD\"]\n",
    "nueva_df_ls = df[columnas_deseadas_ls]"
   ]
  },
  {
   "cell_type": "code",
   "execution_count": 104,
   "metadata": {},
   "outputs": [],
   "source": [
    "# Guardar nueva DF a .csv \n",
    "nueva_df_ls.to_csv(\"espec_lesion.csv\")"
   ]
  },
  {
   "cell_type": "markdown",
   "metadata": {},
   "source": [
    "HOMICIDIOS"
   ]
  },
  {
   "cell_type": "code",
   "execution_count": 105,
   "metadata": {},
   "outputs": [],
   "source": [
    "# Ruta al archivo Excel HOMICIDIOS ESPECÍFICO\n",
    "archivo_excel_homic = \"homici_solit.xlsx\""
   ]
  },
  {
   "cell_type": "code",
   "execution_count": 106,
   "metadata": {},
   "outputs": [],
   "source": [
    "# Cargar el archivo\n",
    "libro_trabajo_h = openpyxl.load_workbook(archivo_excel_homic)"
   ]
  },
  {
   "cell_type": "code",
   "execution_count": 107,
   "metadata": {},
   "outputs": [],
   "source": [
    "# Obtener la hoja activa (por defecto)\n",
    "hoja_activa_h = libro_trabajo_h.active"
   ]
  },
  {
   "cell_type": "code",
   "execution_count": 108,
   "metadata": {},
   "outputs": [],
   "source": [
    "# Leer una celda\n",
    "celda = hoja_activa['A1']\n",
    "valor = celda.value"
   ]
  },
  {
   "cell_type": "code",
   "execution_count": 109,
   "metadata": {},
   "outputs": [
    {
     "name": "stdout",
     "output_type": "stream",
     "text": [
      "ID hecho\n"
     ]
    }
   ],
   "source": [
    "# Imprimir el valor de la celda\n",
    "print(valor)"
   ]
  },
  {
   "cell_type": "code",
   "execution_count": 110,
   "metadata": {},
   "outputs": [],
   "source": [
    "# Llevar el archivo excel a un dataframe\n",
    "df_h = pd.read_excel(\"homici_solit.xlsx\")"
   ]
  },
  {
   "cell_type": "markdown",
   "metadata": {},
   "source": [
    "Se realiza ETL:"
   ]
  },
  {
   "cell_type": "code",
   "execution_count": 111,
   "metadata": {},
   "outputs": [
    {
     "data": {
      "text/html": [
       "<div>\n",
       "<style scoped>\n",
       "    .dataframe tbody tr th:only-of-type {\n",
       "        vertical-align: middle;\n",
       "    }\n",
       "\n",
       "    .dataframe tbody tr th {\n",
       "        vertical-align: top;\n",
       "    }\n",
       "\n",
       "    .dataframe thead th {\n",
       "        text-align: right;\n",
       "    }\n",
       "</style>\n",
       "<table border=\"1\" class=\"dataframe\">\n",
       "  <thead>\n",
       "    <tr style=\"text-align: right;\">\n",
       "      <th></th>\n",
       "      <th>ID_hecho</th>\n",
       "      <th>FECHA</th>\n",
       "      <th>AAAA</th>\n",
       "      <th>MM</th>\n",
       "      <th>DD</th>\n",
       "      <th>ROL</th>\n",
       "      <th>VICTIMA</th>\n",
       "      <th>SEXO</th>\n",
       "      <th>EDAD</th>\n",
       "      <th>FECHA_FALLECIMIENTO</th>\n",
       "    </tr>\n",
       "  </thead>\n",
       "  <tbody>\n",
       "    <tr>\n",
       "      <th>0</th>\n",
       "      <td>2016-0001</td>\n",
       "      <td>2016-01-01</td>\n",
       "      <td>2016</td>\n",
       "      <td>1</td>\n",
       "      <td>1</td>\n",
       "      <td>CONDUCTOR</td>\n",
       "      <td>MOTO</td>\n",
       "      <td>MASCULINO</td>\n",
       "      <td>19</td>\n",
       "      <td>2016-01-01 00:00:00</td>\n",
       "    </tr>\n",
       "    <tr>\n",
       "      <th>1</th>\n",
       "      <td>2016-0002</td>\n",
       "      <td>2016-01-02</td>\n",
       "      <td>2016</td>\n",
       "      <td>1</td>\n",
       "      <td>2</td>\n",
       "      <td>CONDUCTOR</td>\n",
       "      <td>AUTO</td>\n",
       "      <td>MASCULINO</td>\n",
       "      <td>70</td>\n",
       "      <td>2016-01-02 00:00:00</td>\n",
       "    </tr>\n",
       "    <tr>\n",
       "      <th>2</th>\n",
       "      <td>2016-0003</td>\n",
       "      <td>2016-01-03</td>\n",
       "      <td>2016</td>\n",
       "      <td>1</td>\n",
       "      <td>3</td>\n",
       "      <td>CONDUCTOR</td>\n",
       "      <td>MOTO</td>\n",
       "      <td>MASCULINO</td>\n",
       "      <td>30</td>\n",
       "      <td>2016-01-03 00:00:00</td>\n",
       "    </tr>\n",
       "    <tr>\n",
       "      <th>3</th>\n",
       "      <td>2016-0004</td>\n",
       "      <td>2016-01-10</td>\n",
       "      <td>2016</td>\n",
       "      <td>1</td>\n",
       "      <td>10</td>\n",
       "      <td>CONDUCTOR</td>\n",
       "      <td>MOTO</td>\n",
       "      <td>MASCULINO</td>\n",
       "      <td>18</td>\n",
       "      <td>SD</td>\n",
       "    </tr>\n",
       "    <tr>\n",
       "      <th>4</th>\n",
       "      <td>2016-0005</td>\n",
       "      <td>2016-01-21</td>\n",
       "      <td>2016</td>\n",
       "      <td>1</td>\n",
       "      <td>21</td>\n",
       "      <td>CONDUCTOR</td>\n",
       "      <td>MOTO</td>\n",
       "      <td>MASCULINO</td>\n",
       "      <td>29</td>\n",
       "      <td>2016-02-01 00:00:00</td>\n",
       "    </tr>\n",
       "    <tr>\n",
       "      <th>...</th>\n",
       "      <td>...</td>\n",
       "      <td>...</td>\n",
       "      <td>...</td>\n",
       "      <td>...</td>\n",
       "      <td>...</td>\n",
       "      <td>...</td>\n",
       "      <td>...</td>\n",
       "      <td>...</td>\n",
       "      <td>...</td>\n",
       "      <td>...</td>\n",
       "    </tr>\n",
       "    <tr>\n",
       "      <th>712</th>\n",
       "      <td>2021-0092</td>\n",
       "      <td>2021-12-12</td>\n",
       "      <td>2021</td>\n",
       "      <td>12</td>\n",
       "      <td>12</td>\n",
       "      <td>PEATON</td>\n",
       "      <td>PEATON</td>\n",
       "      <td>FEMENINO</td>\n",
       "      <td>50</td>\n",
       "      <td>2021-12-12 00:00:00</td>\n",
       "    </tr>\n",
       "    <tr>\n",
       "      <th>713</th>\n",
       "      <td>2021-0093</td>\n",
       "      <td>2021-12-13</td>\n",
       "      <td>2021</td>\n",
       "      <td>12</td>\n",
       "      <td>13</td>\n",
       "      <td>PASAJERO_ACOMPAÑANTE</td>\n",
       "      <td>MOTO</td>\n",
       "      <td>FEMENINO</td>\n",
       "      <td>18</td>\n",
       "      <td>2021-12-18 00:00:00</td>\n",
       "    </tr>\n",
       "    <tr>\n",
       "      <th>714</th>\n",
       "      <td>2021-0094</td>\n",
       "      <td>2021-12-20</td>\n",
       "      <td>2021</td>\n",
       "      <td>12</td>\n",
       "      <td>20</td>\n",
       "      <td>PASAJERO_ACOMPAÑANTE</td>\n",
       "      <td>MOTO</td>\n",
       "      <td>FEMENINO</td>\n",
       "      <td>43</td>\n",
       "      <td>2021-12-20 00:00:00</td>\n",
       "    </tr>\n",
       "    <tr>\n",
       "      <th>715</th>\n",
       "      <td>2021-0095</td>\n",
       "      <td>2021-12-30</td>\n",
       "      <td>2021</td>\n",
       "      <td>12</td>\n",
       "      <td>30</td>\n",
       "      <td>CONDUCTOR</td>\n",
       "      <td>MOTO</td>\n",
       "      <td>MASCULINO</td>\n",
       "      <td>27</td>\n",
       "      <td>2022-01-02 00:00:00</td>\n",
       "    </tr>\n",
       "    <tr>\n",
       "      <th>716</th>\n",
       "      <td>2021-0096</td>\n",
       "      <td>2021-12-15</td>\n",
       "      <td>2021</td>\n",
       "      <td>12</td>\n",
       "      <td>15</td>\n",
       "      <td>CONDUCTOR</td>\n",
       "      <td>AUTO</td>\n",
       "      <td>MASCULINO</td>\n",
       "      <td>60</td>\n",
       "      <td>2021-12-20 00:00:00</td>\n",
       "    </tr>\n",
       "  </tbody>\n",
       "</table>\n",
       "<p>717 rows × 10 columns</p>\n",
       "</div>"
      ],
      "text/plain": [
       "      ID_hecho      FECHA  AAAA  MM  DD                   ROL VICTIMA  \\\n",
       "0    2016-0001 2016-01-01  2016   1   1             CONDUCTOR    MOTO   \n",
       "1    2016-0002 2016-01-02  2016   1   2             CONDUCTOR    AUTO   \n",
       "2    2016-0003 2016-01-03  2016   1   3             CONDUCTOR    MOTO   \n",
       "3    2016-0004 2016-01-10  2016   1  10             CONDUCTOR    MOTO   \n",
       "4    2016-0005 2016-01-21  2016   1  21             CONDUCTOR    MOTO   \n",
       "..         ...        ...   ...  ..  ..                   ...     ...   \n",
       "712  2021-0092 2021-12-12  2021  12  12                PEATON  PEATON   \n",
       "713  2021-0093 2021-12-13  2021  12  13  PASAJERO_ACOMPAÑANTE    MOTO   \n",
       "714  2021-0094 2021-12-20  2021  12  20  PASAJERO_ACOMPAÑANTE    MOTO   \n",
       "715  2021-0095 2021-12-30  2021  12  30             CONDUCTOR    MOTO   \n",
       "716  2021-0096 2021-12-15  2021  12  15             CONDUCTOR    AUTO   \n",
       "\n",
       "          SEXO EDAD  FECHA_FALLECIMIENTO  \n",
       "0    MASCULINO   19  2016-01-01 00:00:00  \n",
       "1    MASCULINO   70  2016-01-02 00:00:00  \n",
       "2    MASCULINO   30  2016-01-03 00:00:00  \n",
       "3    MASCULINO   18                   SD  \n",
       "4    MASCULINO   29  2016-02-01 00:00:00  \n",
       "..         ...  ...                  ...  \n",
       "712   FEMENINO   50  2021-12-12 00:00:00  \n",
       "713   FEMENINO   18  2021-12-18 00:00:00  \n",
       "714   FEMENINO   43  2021-12-20 00:00:00  \n",
       "715  MASCULINO   27  2022-01-02 00:00:00  \n",
       "716  MASCULINO   60  2021-12-20 00:00:00  \n",
       "\n",
       "[717 rows x 10 columns]"
      ]
     },
     "execution_count": 111,
     "metadata": {},
     "output_type": "execute_result"
    }
   ],
   "source": [
    "df_h"
   ]
  },
  {
   "cell_type": "code",
   "execution_count": 112,
   "metadata": {},
   "outputs": [
    {
     "name": "stdout",
     "output_type": "stream",
     "text": [
      "<class 'pandas.core.frame.DataFrame'>\n",
      "RangeIndex: 717 entries, 0 to 716\n",
      "Data columns (total 10 columns):\n",
      " #   Column               Non-Null Count  Dtype         \n",
      "---  ------               --------------  -----         \n",
      " 0   ID_hecho             717 non-null    object        \n",
      " 1   FECHA                717 non-null    datetime64[ns]\n",
      " 2   AAAA                 717 non-null    int64         \n",
      " 3   MM                   717 non-null    int64         \n",
      " 4   DD                   717 non-null    int64         \n",
      " 5   ROL                  717 non-null    object        \n",
      " 6   VICTIMA              717 non-null    object        \n",
      " 7   SEXO                 717 non-null    object        \n",
      " 8   EDAD                 717 non-null    object        \n",
      " 9   FECHA_FALLECIMIENTO  717 non-null    object        \n",
      "dtypes: datetime64[ns](1), int64(3), object(6)\n",
      "memory usage: 56.1+ KB\n"
     ]
    }
   ],
   "source": [
    "# Ver info de la data\n",
    "df_h.info()"
   ]
  },
  {
   "cell_type": "code",
   "execution_count": 113,
   "metadata": {},
   "outputs": [
    {
     "data": {
      "text/plain": [
       "array(['2016-0001', '2016-0002', '2016-0003', '2016-0004', '2016-0005',\n",
       "       '2016-0008', '2016-0009', '2016-0010', '2016-0012', '2016-0013',\n",
       "       '2016-0015', '2016-0016', '2016-0017', '2016-0019', '2016-0020',\n",
       "       '2016-0021', '2016-0022', '2016-0025', '2016-0026', '2016-0027',\n",
       "       '2016-0028', '2016-0029', '2016-0031', '2016-0034', '2016-0035',\n",
       "       '2016-0036', '2016-0037', '2016-0038', '2016-0039', '2016-0041',\n",
       "       '2016-0043', '2016-0044', '2016-0045', '2016-0047', '2016-0048',\n",
       "       '2016-0049', '2016-0050', '2016-0051', '2016-0052', '2016-0053',\n",
       "       '2016-0054', '2016-0055', '2016-0056', '2016-0058', '2016-0059',\n",
       "       '2016-0064', '2016-0065', '2016-0067', '2016-0068', '2016-0069',\n",
       "       '2016-0073', '2016-0074', '2016-0075', '2016-0076', '2016-0077',\n",
       "       '2016-0078', '2016-0079', '2016-0080', '2016-0081', '2016-0082',\n",
       "       '2016-0083', '2016-0084', '2016-0085', '2016-0086', '2016-0087',\n",
       "       '2016-0088', '2016-0089', '2016-0090', '2016-0092', '2016-0093',\n",
       "       '2016-0095', '2016-0096', '2016-0097', '2016-0098', '2016-0099',\n",
       "       '2016-0100', '2016-0101', '2016-0102', '2016-0104', '2016-0105',\n",
       "       '2016-0106', '2016-0107', '2016-0109', '2016-0110', '2016-0111',\n",
       "       '2016-0112', '2016-0113', '2016-0114', '2016-0115', '2016-0116',\n",
       "       '2016-0117', '2016-0118', '2016-0119', '2016-0122', '2016-0123',\n",
       "       '2016-0124', '2016-0125', '2016-0126', '2016-0127', '2016-0128',\n",
       "       '2016-0130', '2016-0131', '2016-0132', '2016-0133', '2016-0134',\n",
       "       '2016-0135', '2016-0136', '2016-0137', '2016-0138', '2016-0139',\n",
       "       '2016-0140', '2016-0142', '2016-0143', '2016-0144', '2016-0145',\n",
       "       '2016-0146', '2016-0147', '2016-0148', '2016-0150', '2016-0151',\n",
       "       '2016-0152', '2016-0153', '2016-0154', '2016-0155', '2016-0156',\n",
       "       '2016-0157', '2016-0159', '2016-0160', '2016-0161', '2016-0162',\n",
       "       '2016-0163', '2016-0164', '2016-0165', '2016-0168', '2016-0169',\n",
       "       '2016-0170', '2016-0171', '2016-0172', '2016-0173', '2016-0174',\n",
       "       '2016-0175', '2016-0176', '2016-0177', '2016-0178', '2017-0001',\n",
       "       '2017-0003', '2017-0007', '2017-0008', '2017-0009', '2017-0010',\n",
       "       '2017-0011', '2017-0012', '2017-0013', '2017-0014', '2017-0015',\n",
       "       '2017-0016', '2017-0017', '2017-0018', '2017-0021', '2017-0024',\n",
       "       '2017-0025', '2017-0026', '2017-0027', '2017-0028', '2017-0029',\n",
       "       '2017-0030', '2017-0031', '2017-0032', '2017-0033', '2017-0034',\n",
       "       '2017-0035', '2017-0036', '2017-0037', '2017-0038', '2017-0040',\n",
       "       '2017-0041', '2017-0042', '2017-0045', '2017-0047', '2017-0049',\n",
       "       '2017-0050', '2017-0051', '2017-0052', '2017-0053', '2017-0054',\n",
       "       '2017-0055', '2017-0058', '2017-0059', '2017-0060', '2017-0061',\n",
       "       '2017-0062', '2017-0063', '2017-0064', '2017-0065', '2017-0066',\n",
       "       '2017-0067', '2017-0068', '2017-0069', '2017-0070', '2017-0072',\n",
       "       '2017-0073', '2017-0074', '2017-0075', '2017-0076', '2017-0077',\n",
       "       '2017-0079', '2017-0080', '2017-0082', '2017-0083', '2017-0084',\n",
       "       '2017-0085', '2017-0086', '2017-0087', '2017-0088', '2017-0089',\n",
       "       '2017-0090', '2017-0091', '2017-0092', '2017-0093', '2017-0094',\n",
       "       '2017-0095', '2017-0096', '2017-0098', '2017-0099', '2017-0100',\n",
       "       '2017-0101', '2017-0102', '2017-0104', '2017-0106', '2017-0107',\n",
       "       '2017-0108', '2017-0109', '2017-0110', '2017-0111', '2017-0112',\n",
       "       '2017-0113', '2017-0114', '2017-0115', '2017-0116', '2017-0118',\n",
       "       '2017-0120', '2017-0123', '2017-0124', '2017-0125', '2017-0126',\n",
       "       '2017-0127', '2017-0128', '2017-0129', '2017-0130', '2017-0132',\n",
       "       '2017-0134', '2017-0135', '2017-0136', '2017-0137', '2017-0138',\n",
       "       '2017-0139', '2017-0140', '2017-0141', '2017-0143', '2017-0144',\n",
       "       '2017-0145', '2017-0147', '2017-0148', '2017-0149', '2017-0150',\n",
       "       '2017-0151', '2017-0152', '2017-0153', '2017-0154', '2017-0155',\n",
       "       '2017-0157', '2017-0158', '2017-0159', '2017-0160', '2017-0161',\n",
       "       '2018-0001', '2018-0002', '2018-0003', '2018-0004', '2018-0005',\n",
       "       '2018-0006', '2018-0007', '2018-0008', '2018-0009', '2018-0010',\n",
       "       '2018-0011', '2018-0012', '2018-0013', '2018-0014', '2018-0015',\n",
       "       '2018-0016', '2018-0017', '2018-0018', '2018-0019', '2018-0020',\n",
       "       '2018-0021', '2018-0022', '2018-0023', '2018-0024', '2018-0025',\n",
       "       '2018-0026', '2018-0027', '2018-0028', '2018-0029', '2018-0030',\n",
       "       '2018-0031', '2018-0032', '2018-0033', '2018-0034', '2018-0035',\n",
       "       '2018-0036', '2018-0037', '2018-0038', '2018-0039', '2018-0040',\n",
       "       '2018-0041', '2018-0042', '2018-0043', '2018-0044', '2018-0045',\n",
       "       '2018-0046', '2018-0047', '2018-0048', '2018-0049', '2018-0050',\n",
       "       '2018-0051', '2018-0052', '2018-0053', '2018-0054', '2018-0055',\n",
       "       '2018-0056', '2018-0057', '2018-0058', '2018-0059', '2018-0060',\n",
       "       '2018-0061', '2018-0062', '2018-0063', '2018-0064', '2018-0065',\n",
       "       '2018-0066', '2018-0067', '2018-0068', '2018-0069', '2018-0070',\n",
       "       '2018-0071', '2018-0072', '2018-0073', '2018-0074', '2018-0075',\n",
       "       '2018-0076', '2018-0077', '2018-0078', '2018-0079', '2018-0080',\n",
       "       '2018-0081', '2018-0082', '2018-0083', '2018-0084', '2018-0085',\n",
       "       '2018-0086', '2018-0087', '2018-0088', '2018-0089', '2018-0090',\n",
       "       '2018-0091', '2018-0092', '2018-0093', '2018-0094', '2018-0095',\n",
       "       '2018-0096', '2018-0097', '2018-0098', '2018-0099', '2018-0100',\n",
       "       '2018-0101', '2018-0102', '2018-0103', '2018-0104', '2018-0105',\n",
       "       '2018-0106', '2018-0107', '2018-0108', '2018-0109', '2018-0110',\n",
       "       '2018-0111', '2018-0112', '2018-0113', '2018-0114', '2018-0115',\n",
       "       '2018-0116', '2018-0117', '2018-0118', '2018-0119', '2018-0120',\n",
       "       '2018-0121', '2018-0122', '2018-0123', '2018-0124', '2018-0125',\n",
       "       '2018-0126', '2018-0127', '2018-0128', '2018-0129', '2018-0130',\n",
       "       '2018-0131', '2018-0132', '2018-0133', '2018-0134', '2018-0135',\n",
       "       '2018-0136', '2018-0137', '2018-0138', '2018-0139', '2018-0140',\n",
       "       '2018-0141', '2018-0142', '2018-0143', '2019-0001', '2019-0002',\n",
       "       '2019-0003', '2019-0004', '2019-0005', '2019-0006', '2019-0007',\n",
       "       '2019-0008', '2019-0009', '2019-0010', '2019-0011', '2019-0012',\n",
       "       '2019-0013', '2019-0014', '2019-0015', '2019-0016', '2019-0017',\n",
       "       '2019-0018', '2019-0019', '2019-0020', '2019-0021', '2019-0022',\n",
       "       '2019-0023', '2019-0024', '2019-0025', '2019-0026', '2019-0027',\n",
       "       '2019-0028', '2019-0029', '2019-0030', '2019-0031', '2019-0032',\n",
       "       '2019-0033', '2019-0034', '2019-0035', '2019-0036', '2019-0037',\n",
       "       '2019-0038', '2019-0105', '2019-0039', '2019-0040', '2019-0041',\n",
       "       '2019-0042', '2019-0043', '2019-0044', '2019-0045', '2019-0046',\n",
       "       '2019-0047', '2019-0048', '2019-0049', '2019-0050', '2019-0051',\n",
       "       '2019-0053', '2019-0054', '2019-0055', '2019-0056', '2019-0057',\n",
       "       '2019-0058', '2019-0059', '2019-0060', '2019-0061', '2019-0062',\n",
       "       '2019-0063', '2019-0064', '2019-0065', '2019-0066', '2019-0067',\n",
       "       '2019-0068', '2019-0069', '2019-0070', '2019-0071', '2019-0072',\n",
       "       '2019-0073', '2019-0074', '2019-0075', '2019-0076', '2019-0077',\n",
       "       '2019-0078', '2019-0079', '2019-0080', '2019-0081', '2019-0082',\n",
       "       '2019-0083', '2019-0084', '2019-0085', '2019-0086', '2019-0087',\n",
       "       '2019-0088', '2019-0089', '2019-0090', '2019-0091', '2019-0092',\n",
       "       '2019-0093', '2019-0094', '2019-0095', '2019-0096', '2019-0097',\n",
       "       '2019-0098', '2019-0100', '2019-0101', '2019-0102', '2019-0103',\n",
       "       '2019-0104', '2020-0001', '2020-0002', '2020-0003', '2020-0004',\n",
       "       '2020-0005', '2020-0006', '2020-0007', '2020-0008', '2020-0009',\n",
       "       '2020-0010', '2020-0011', '2020-0012', '2020-0013', '2020-0014',\n",
       "       '2020-0015', '2020-0016', '2020-0017', '2020-0018', '2020-0019',\n",
       "       '2020-0020', '2020-0021', '2020-0022', '2020-0023', '2020-0024',\n",
       "       '2020-0025', '2020-0026', '2020-0027', '2020-0028', '2020-0029',\n",
       "       '2020-0030', '2020-0031', '2020-0032', '2020-0033', '2020-0034',\n",
       "       '2020-0035', '2020-0036', '2020-0037', '2020-0038', '2020-0039',\n",
       "       '2020-0040', '2020-0041', '2020-0042', '2020-0043', '2020-0044',\n",
       "       '2020-0045', '2020-0046', '2020-0047', '2020-0048', '2020-0049',\n",
       "       '2020-0050', '2020-0051', '2020-0052', '2020-0053', '2020-0054',\n",
       "       '2020-0055', '2020-0056', '2020-0057', '2020-0058', '2020-0059',\n",
       "       '2020-0060', '2020-0061', '2020-0062', '2020-0063', '2020-0065',\n",
       "       '2020-0066', '2020-0067', '2020-0068', '2020-0069', '2020-0070',\n",
       "       '2020-0071', '2020-0072', '2020-0073', '2020-0074', '2020-0075',\n",
       "       '2020-0076', '2020-0077', '2020-0078', '2020-0079', '2021-0001',\n",
       "       '2021-0002', '2021-0003', '2021-0004', '2021-0005', '2021-0006',\n",
       "       '2021-0007', '2021-0008', '2021-0009', '2021-0010', '2021-0011',\n",
       "       '2021-0012', '2021-0013', '2021-0014', '2021-0015', '2021-0016',\n",
       "       '2021-0017', '2021-0018', '2021-0019', '2021-0020', '2021-0021',\n",
       "       '2021-0022', '2021-0023', '2021-0024', '2021-0025', '2021-0026',\n",
       "       '2021-0027', '2021-0028', '2021-0029', '2021-0030', '2021-0031',\n",
       "       '2021-0032', '2021-0033', '2021-0034', '2021-0035', '2021-0036',\n",
       "       '2021-0037', '2021-0038', '2021-0039', '2021-0040', '2021-0041',\n",
       "       '2021-0042', '2021-0043', '2021-0044', '2021-0045', '2021-0046',\n",
       "       '2021-0047', '2021-0048', '2021-0049', '2021-0050', '2021-0051',\n",
       "       '2021-0052', '2021-0053', '2021-0054', '2021-0055', '2021-0056',\n",
       "       '2021-0057', '2021-0058', '2021-0059', '2021-0060', '2021-0061',\n",
       "       '2021-0062', '2021-0063', '2021-0064', '2021-0065', '2021-0066',\n",
       "       '2021-0067', '2021-0068', '2021-0069', '2021-0070', '2021-0071',\n",
       "       '2021-0072', '2021-0073', '2021-0074', '2021-0075', '2021-0076',\n",
       "       '2021-0077', '2021-0078', '2021-0079', '2021-0080', '2021-0081',\n",
       "       '2021-0082', '2021-0083', '2021-0084', '2021-0097', '2021-0085',\n",
       "       '2021-0086', '2021-0087', '2021-0088', '2021-0089', '2021-0090',\n",
       "       '2021-0091', '2021-0092', '2021-0093', '2021-0094', '2021-0095',\n",
       "       '2021-0096'], dtype=object)"
      ]
     },
     "execution_count": 113,
     "metadata": {},
     "output_type": "execute_result"
    }
   ],
   "source": [
    "# Ver valores únicos\n",
    "df_h[\"ID_hecho\"].unique()"
   ]
  },
  {
   "cell_type": "code",
   "execution_count": 114,
   "metadata": {},
   "outputs": [
    {
     "data": {
      "text/plain": [
       "<DatetimeArray>\n",
       "['2016-01-01 00:00:00', '2016-01-02 00:00:00', '2016-01-03 00:00:00',\n",
       " '2016-01-10 00:00:00', '2016-01-21 00:00:00', '2016-01-24 00:00:00',\n",
       " '2016-01-29 00:00:00', '2016-02-08 00:00:00', '2016-02-10 00:00:00',\n",
       " '2016-02-14 00:00:00',\n",
       " ...\n",
       " '2021-11-27 00:00:00', '2021-12-01 00:00:00', '2021-12-02 00:00:00',\n",
       " '2021-12-10 00:00:00', '2021-12-11 00:00:00', '2021-12-12 00:00:00',\n",
       " '2021-12-13 00:00:00', '2021-12-20 00:00:00', '2021-12-30 00:00:00',\n",
       " '2021-12-15 00:00:00']\n",
       "Length: 598, dtype: datetime64[ns]"
      ]
     },
     "execution_count": 114,
     "metadata": {},
     "output_type": "execute_result"
    }
   ],
   "source": [
    "# Ver valores únicos\n",
    "df_h[\"FECHA\"].unique()"
   ]
  },
  {
   "cell_type": "code",
   "execution_count": 115,
   "metadata": {},
   "outputs": [
    {
     "data": {
      "text/plain": [
       "Index(['ID_hecho', 'FECHA', 'AAAA', 'MM', 'DD', 'ROL', 'VICTIMA', 'SEXO',\n",
       "       'EDAD', 'FECHA_FALLECIMIENTO'],\n",
       "      dtype='object')"
      ]
     },
     "execution_count": 115,
     "metadata": {},
     "output_type": "execute_result"
    }
   ],
   "source": [
    "# Ver info de la data\n",
    "df_h.columns"
   ]
  },
  {
   "cell_type": "code",
   "execution_count": 116,
   "metadata": {},
   "outputs": [
    {
     "data": {
      "text/plain": [
       "array([2016, 2017, 2018, 2019, 2020, 2021], dtype=int64)"
      ]
     },
     "execution_count": 116,
     "metadata": {},
     "output_type": "execute_result"
    }
   ],
   "source": [
    "# Ver valores únicos\n",
    "df_h[\"AAAA\"].unique()"
   ]
  },
  {
   "cell_type": "code",
   "execution_count": 117,
   "metadata": {},
   "outputs": [
    {
     "data": {
      "text/plain": [
       "array([ 1,  2,  3,  4,  5,  6,  7,  8,  9, 10, 11, 12], dtype=int64)"
      ]
     },
     "execution_count": 117,
     "metadata": {},
     "output_type": "execute_result"
    }
   ],
   "source": [
    "# Ver valores únicos\n",
    "df_h[\"MM\"].unique()"
   ]
  },
  {
   "cell_type": "code",
   "execution_count": 118,
   "metadata": {},
   "outputs": [
    {
     "data": {
      "text/plain": [
       "array([ 1,  2,  3, 10, 21, 24, 29,  8, 14, 15, 17, 28,  4, 12, 13, 19, 23,\n",
       "       30, 31, 11, 20, 22, 25, 26, 16, 18, 27,  7,  9,  5,  6],\n",
       "      dtype=int64)"
      ]
     },
     "execution_count": 118,
     "metadata": {},
     "output_type": "execute_result"
    }
   ],
   "source": [
    "# Ver valores únicos\n",
    "df_h[\"DD\"].unique()"
   ]
  },
  {
   "cell_type": "code",
   "execution_count": 119,
   "metadata": {},
   "outputs": [
    {
     "data": {
      "text/plain": [
       "array(['CONDUCTOR', 'PASAJERO_ACOMPAÑANTE', 'PEATON', 'SD', 'CICLISTA'],\n",
       "      dtype=object)"
      ]
     },
     "execution_count": 119,
     "metadata": {},
     "output_type": "execute_result"
    }
   ],
   "source": [
    "# Ver valores únicos\n",
    "df_h[\"ROL\"].unique()"
   ]
  },
  {
   "cell_type": "code",
   "execution_count": 120,
   "metadata": {},
   "outputs": [
    {
     "data": {
      "text/plain": [
       "array(['MOTO', 'AUTO', 'PEATON', 'SD', 'CARGAS', 'BICICLETA', 'PASAJEROS',\n",
       "       'MOVIL'], dtype=object)"
      ]
     },
     "execution_count": 120,
     "metadata": {},
     "output_type": "execute_result"
    }
   ],
   "source": [
    "# Ver valores únicos\n",
    "df_h[\"VICTIMA\"].unique()"
   ]
  },
  {
   "cell_type": "code",
   "execution_count": 121,
   "metadata": {},
   "outputs": [
    {
     "data": {
      "text/plain": [
       "array(['MASCULINO', 'FEMENINO', 'SD'], dtype=object)"
      ]
     },
     "execution_count": 121,
     "metadata": {},
     "output_type": "execute_result"
    }
   ],
   "source": [
    "# Ver valores únicos\n",
    "df_h[\"SEXO\"].unique()"
   ]
  },
  {
   "cell_type": "code",
   "execution_count": 122,
   "metadata": {},
   "outputs": [
    {
     "data": {
      "text/plain": [
       "array([19, 70, 30, 18, 29, 22, 16, 59, 65, 34, 41, 50, 38, 21, 52, 36, 20,\n",
       "       54, 'SD', 56, 24, 78, 79, 26, 57, 37, 58, 23, 60, 42, 53, 51, 40,\n",
       "       87, 76, 75, 35, 80, 43, 45, 67, 27, 55, 49, 81, 25, 33, 46, 83, 39,\n",
       "       28, 7, 48, 4, 82, 32, 17, 47, 61, 10, 95, 73, 84, 66, 85, 1, 15,\n",
       "       13, 77, 44, 31, 62, 74, 71, 11, 86, 69, 72, 12, 63, 92, 68, 91, 64,\n",
       "       5, 88], dtype=object)"
      ]
     },
     "execution_count": 122,
     "metadata": {},
     "output_type": "execute_result"
    }
   ],
   "source": [
    "# Ver valores únicos\n",
    "df_h[\"EDAD\"].unique()"
   ]
  },
  {
   "cell_type": "code",
   "execution_count": 123,
   "metadata": {},
   "outputs": [],
   "source": [
    "# Queremos cambiar el valor 'antiguo_valor' por 'nuevo_valor'\n",
    "df_h[\"EDAD\"] = df_h[\"EDAD\"].replace(\"SD\", 0)"
   ]
  },
  {
   "cell_type": "code",
   "execution_count": 124,
   "metadata": {},
   "outputs": [],
   "source": [
    "# Cambiar obj por int\n",
    "df_h[\"EDAD\"] = df_h[\"EDAD\"].astype(int)"
   ]
  },
  {
   "cell_type": "code",
   "execution_count": 125,
   "metadata": {},
   "outputs": [
    {
     "data": {
      "text/plain": [
       "array([datetime.datetime(2016, 1, 1, 0, 0),\n",
       "       datetime.datetime(2016, 1, 2, 0, 0),\n",
       "       datetime.datetime(2016, 1, 3, 0, 0), 'SD',\n",
       "       datetime.datetime(2016, 2, 1, 0, 0),\n",
       "       datetime.datetime(2016, 1, 24, 0, 0),\n",
       "       datetime.datetime(2016, 1, 26, 0, 0),\n",
       "       datetime.datetime(2016, 1, 29, 0, 0),\n",
       "       datetime.datetime(2016, 2, 8, 0, 0),\n",
       "       datetime.datetime(2016, 2, 10, 0, 0),\n",
       "       datetime.datetime(2016, 2, 14, 0, 0),\n",
       "       datetime.datetime(2016, 2, 16, 0, 0),\n",
       "       datetime.datetime(2016, 2, 17, 0, 0),\n",
       "       datetime.datetime(2016, 3, 2, 0, 0),\n",
       "       datetime.datetime(2016, 2, 28, 0, 0),\n",
       "       datetime.datetime(2016, 3, 4, 0, 0),\n",
       "       datetime.datetime(2016, 3, 12, 0, 0),\n",
       "       datetime.datetime(2016, 3, 13, 0, 0),\n",
       "       datetime.datetime(2016, 3, 14, 0, 0),\n",
       "       datetime.datetime(2016, 3, 19, 0, 0),\n",
       "       datetime.datetime(2016, 3, 21, 0, 0),\n",
       "       datetime.datetime(2016, 3, 23, 0, 0),\n",
       "       datetime.datetime(2016, 3, 29, 0, 0),\n",
       "       datetime.datetime(2016, 3, 30, 0, 0),\n",
       "       datetime.datetime(2016, 3, 31, 0, 0),\n",
       "       datetime.datetime(2016, 4, 15, 0, 0),\n",
       "       datetime.datetime(2016, 4, 19, 0, 0),\n",
       "       datetime.datetime(2016, 4, 20, 0, 0),\n",
       "       datetime.datetime(2016, 4, 22, 0, 0),\n",
       "       datetime.datetime(2016, 4, 25, 0, 0),\n",
       "       datetime.datetime(2016, 4, 28, 0, 0),\n",
       "       datetime.datetime(2016, 4, 26, 0, 0),\n",
       "       datetime.datetime(2016, 5, 8, 0, 0),\n",
       "       datetime.datetime(2016, 5, 26, 0, 0),\n",
       "       datetime.datetime(2016, 5, 20, 0, 0),\n",
       "       datetime.datetime(2016, 5, 23, 0, 0),\n",
       "       datetime.datetime(2016, 6, 12, 0, 0),\n",
       "       datetime.datetime(2016, 6, 13, 0, 0),\n",
       "       datetime.datetime(2016, 7, 5, 0, 0),\n",
       "       datetime.datetime(2016, 6, 29, 0, 0),\n",
       "       datetime.datetime(2016, 7, 8, 0, 0),\n",
       "       datetime.datetime(2016, 7, 1, 0, 0),\n",
       "       datetime.datetime(2016, 7, 3, 0, 0),\n",
       "       datetime.datetime(2016, 7, 14, 0, 0),\n",
       "       datetime.datetime(2016, 7, 15, 0, 0),\n",
       "       datetime.datetime(2016, 7, 19, 0, 0),\n",
       "       datetime.datetime(2016, 7, 23, 0, 0),\n",
       "       datetime.datetime(2016, 8, 12, 0, 0),\n",
       "       datetime.datetime(2016, 8, 3, 0, 0),\n",
       "       datetime.datetime(2016, 8, 15, 0, 0),\n",
       "       datetime.datetime(2016, 8, 26, 0, 0),\n",
       "       datetime.datetime(2016, 8, 24, 0, 0),\n",
       "       datetime.datetime(2016, 8, 25, 0, 0),\n",
       "       datetime.datetime(2016, 8, 27, 0, 0),\n",
       "       datetime.datetime(2016, 8, 31, 0, 0),\n",
       "       datetime.datetime(2016, 9, 2, 0, 0),\n",
       "       datetime.datetime(2016, 9, 4, 0, 0),\n",
       "       datetime.datetime(2016, 9, 13, 0, 0),\n",
       "       datetime.datetime(2016, 10, 2, 0, 0),\n",
       "       datetime.datetime(2016, 10, 4, 0, 0),\n",
       "       datetime.datetime(2016, 10, 10, 0, 0),\n",
       "       datetime.datetime(2016, 10, 25, 0, 0),\n",
       "       datetime.datetime(2016, 10, 23, 0, 0),\n",
       "       datetime.datetime(2016, 11, 5, 0, 0),\n",
       "       datetime.datetime(2016, 11, 7, 0, 0),\n",
       "       datetime.datetime(2016, 11, 16, 0, 0),\n",
       "       datetime.datetime(2016, 11, 18, 0, 0),\n",
       "       datetime.datetime(2016, 11, 24, 0, 0),\n",
       "       datetime.datetime(2016, 11, 25, 0, 0),\n",
       "       datetime.datetime(2016, 11, 30, 0, 0),\n",
       "       datetime.datetime(2016, 12, 6, 0, 0),\n",
       "       datetime.datetime(2017, 1, 1, 0, 0),\n",
       "       datetime.datetime(2016, 12, 13, 0, 0),\n",
       "       datetime.datetime(2016, 12, 16, 0, 0),\n",
       "       datetime.datetime(2016, 12, 19, 0, 0),\n",
       "       datetime.datetime(2016, 12, 26, 0, 0),\n",
       "       datetime.datetime(2017, 1, 2, 0, 0),\n",
       "       datetime.datetime(2017, 1, 5, 0, 0),\n",
       "       datetime.datetime(2017, 1, 11, 0, 0),\n",
       "       datetime.datetime(2017, 1, 16, 0, 0),\n",
       "       datetime.datetime(2017, 1, 22, 0, 0),\n",
       "       datetime.datetime(2017, 1, 24, 0, 0),\n",
       "       datetime.datetime(2017, 1, 27, 0, 0),\n",
       "       datetime.datetime(2017, 1, 28, 0, 0),\n",
       "       datetime.datetime(2017, 2, 21, 0, 0),\n",
       "       datetime.datetime(2017, 2, 4, 0, 0),\n",
       "       datetime.datetime(2017, 2, 6, 0, 0),\n",
       "       datetime.datetime(2017, 2, 9, 0, 0),\n",
       "       datetime.datetime(2017, 2, 18, 0, 0),\n",
       "       datetime.datetime(2017, 2, 23, 0, 0),\n",
       "       datetime.datetime(2017, 2, 24, 0, 0),\n",
       "       datetime.datetime(2017, 2, 26, 0, 0),\n",
       "       datetime.datetime(2017, 2, 28, 0, 0),\n",
       "       datetime.datetime(2017, 3, 7, 0, 0),\n",
       "       datetime.datetime(2017, 3, 11, 0, 0),\n",
       "       datetime.datetime(2017, 3, 12, 0, 0),\n",
       "       datetime.datetime(2017, 3, 13, 0, 0),\n",
       "       datetime.datetime(2017, 3, 23, 0, 0),\n",
       "       datetime.datetime(2017, 3, 29, 0, 0),\n",
       "       datetime.datetime(2017, 3, 31, 0, 0),\n",
       "       datetime.datetime(2017, 4, 1, 0, 0),\n",
       "       datetime.datetime(2017, 4, 3, 0, 0),\n",
       "       datetime.datetime(2017, 4, 10, 0, 0),\n",
       "       datetime.datetime(2017, 4, 14, 0, 0),\n",
       "       datetime.datetime(2017, 4, 23, 0, 0),\n",
       "       datetime.datetime(2017, 4, 27, 0, 0),\n",
       "       datetime.datetime(2017, 4, 28, 0, 0),\n",
       "       datetime.datetime(2017, 5, 1, 0, 0),\n",
       "       datetime.datetime(2017, 5, 5, 0, 0),\n",
       "       datetime.datetime(2017, 5, 7, 0, 0),\n",
       "       datetime.datetime(2017, 5, 9, 0, 0),\n",
       "       datetime.datetime(2017, 5, 11, 0, 0),\n",
       "       datetime.datetime(2017, 5, 13, 0, 0),\n",
       "       datetime.datetime(2017, 5, 16, 0, 0),\n",
       "       datetime.datetime(2017, 5, 15, 0, 0),\n",
       "       datetime.datetime(2017, 5, 17, 0, 0),\n",
       "       datetime.datetime(2017, 5, 20, 0, 0),\n",
       "       datetime.datetime(2017, 5, 22, 0, 0),\n",
       "       datetime.datetime(2017, 5, 23, 0, 0),\n",
       "       datetime.datetime(2017, 5, 27, 0, 0),\n",
       "       datetime.datetime(2017, 5, 29, 0, 0),\n",
       "       datetime.datetime(2017, 5, 31, 0, 0),\n",
       "       datetime.datetime(2017, 6, 3, 0, 0),\n",
       "       datetime.datetime(2017, 6, 4, 0, 0),\n",
       "       datetime.datetime(2017, 6, 12, 0, 0),\n",
       "       datetime.datetime(2017, 6, 13, 0, 0),\n",
       "       datetime.datetime(2017, 6, 18, 0, 0),\n",
       "       datetime.datetime(2017, 6, 19, 0, 0),\n",
       "       datetime.datetime(2017, 6, 22, 0, 0),\n",
       "       datetime.datetime(2017, 6, 25, 0, 0),\n",
       "       datetime.datetime(2017, 7, 4, 0, 0),\n",
       "       datetime.datetime(2017, 7, 5, 0, 0),\n",
       "       datetime.datetime(2017, 7, 7, 0, 0),\n",
       "       datetime.datetime(2017, 7, 9, 0, 0),\n",
       "       datetime.datetime(2017, 7, 10, 0, 0),\n",
       "       datetime.datetime(2017, 7, 15, 0, 0),\n",
       "       datetime.datetime(2017, 7, 24, 0, 0),\n",
       "       datetime.datetime(2017, 7, 25, 0, 0),\n",
       "       datetime.datetime(2017, 7, 27, 0, 0),\n",
       "       datetime.datetime(2017, 8, 6, 0, 0),\n",
       "       datetime.datetime(2017, 8, 7, 0, 0),\n",
       "       datetime.datetime(2017, 8, 8, 0, 0),\n",
       "       datetime.datetime(2017, 8, 17, 0, 0),\n",
       "       datetime.datetime(2017, 8, 21, 0, 0),\n",
       "       datetime.datetime(2017, 8, 23, 0, 0),\n",
       "       datetime.datetime(2017, 8, 24, 0, 0),\n",
       "       datetime.datetime(2017, 8, 25, 0, 0),\n",
       "       datetime.datetime(2017, 8, 31, 0, 0),\n",
       "       datetime.datetime(2017, 9, 1, 0, 0),\n",
       "       datetime.datetime(2017, 9, 2, 0, 0),\n",
       "       datetime.datetime(2017, 9, 5, 0, 0),\n",
       "       datetime.datetime(2017, 9, 7, 0, 0),\n",
       "       datetime.datetime(2017, 9, 13, 0, 0),\n",
       "       datetime.datetime(2017, 9, 11, 0, 0),\n",
       "       datetime.datetime(2017, 9, 15, 0, 0),\n",
       "       datetime.datetime(2017, 9, 20, 0, 0),\n",
       "       datetime.datetime(2017, 9, 29, 0, 0),\n",
       "       datetime.datetime(2017, 10, 2, 0, 0),\n",
       "       datetime.datetime(2017, 10, 10, 0, 0),\n",
       "       datetime.datetime(2017, 10, 12, 0, 0),\n",
       "       datetime.datetime(2017, 10, 13, 0, 0),\n",
       "       datetime.datetime(2017, 10, 14, 0, 0),\n",
       "       datetime.datetime(2017, 10, 16, 0, 0),\n",
       "       datetime.datetime(2017, 10, 17, 0, 0),\n",
       "       datetime.datetime(2017, 10, 26, 0, 0),\n",
       "       datetime.datetime(2017, 10, 27, 0, 0),\n",
       "       datetime.datetime(2017, 10, 30, 0, 0),\n",
       "       datetime.datetime(2017, 11, 6, 0, 0),\n",
       "       datetime.datetime(2017, 11, 7, 0, 0),\n",
       "       datetime.datetime(2017, 11, 16, 0, 0),\n",
       "       datetime.datetime(2017, 11, 17, 0, 0),\n",
       "       datetime.datetime(2017, 11, 19, 0, 0),\n",
       "       datetime.datetime(2017, 11, 23, 0, 0),\n",
       "       datetime.datetime(2017, 11, 25, 0, 0),\n",
       "       datetime.datetime(2017, 11, 26, 0, 0),\n",
       "       datetime.datetime(2017, 11, 28, 0, 0),\n",
       "       datetime.datetime(2017, 11, 29, 0, 0),\n",
       "       datetime.datetime(2017, 11, 30, 0, 0),\n",
       "       datetime.datetime(2017, 12, 4, 0, 0),\n",
       "       datetime.datetime(2017, 12, 6, 0, 0),\n",
       "       datetime.datetime(2017, 12, 12, 0, 0),\n",
       "       datetime.datetime(2017, 12, 11, 0, 0),\n",
       "       datetime.datetime(2017, 12, 17, 0, 0),\n",
       "       datetime.datetime(2017, 12, 18, 0, 0),\n",
       "       datetime.datetime(2017, 12, 20, 0, 0),\n",
       "       datetime.datetime(2017, 12, 22, 0, 0),\n",
       "       datetime.datetime(2017, 12, 26, 0, 0),\n",
       "       datetime.datetime(2018, 1, 2, 0, 0),\n",
       "       datetime.datetime(2018, 1, 3, 0, 0),\n",
       "       datetime.datetime(2018, 1, 5, 0, 0),\n",
       "       datetime.datetime(2018, 1, 9, 0, 0),\n",
       "       datetime.datetime(2018, 1, 10, 0, 0),\n",
       "       datetime.datetime(2018, 1, 11, 0, 0),\n",
       "       datetime.datetime(2018, 1, 12, 0, 0),\n",
       "       datetime.datetime(2018, 1, 14, 0, 0),\n",
       "       datetime.datetime(2018, 1, 18, 0, 0),\n",
       "       datetime.datetime(2018, 1, 19, 0, 0),\n",
       "       datetime.datetime(2018, 1, 26, 0, 0),\n",
       "       datetime.datetime(2018, 1, 28, 0, 0),\n",
       "       datetime.datetime(2018, 2, 4, 0, 0),\n",
       "       datetime.datetime(2018, 2, 6, 0, 0),\n",
       "       datetime.datetime(2018, 2, 15, 0, 0),\n",
       "       datetime.datetime(2018, 2, 20, 0, 0),\n",
       "       datetime.datetime(2018, 2, 17, 0, 0),\n",
       "       datetime.datetime(2018, 2, 19, 0, 0),\n",
       "       datetime.datetime(2018, 2, 22, 0, 0),\n",
       "       datetime.datetime(2018, 2, 24, 0, 0),\n",
       "       datetime.datetime(2018, 2, 28, 0, 0),\n",
       "       datetime.datetime(2018, 3, 5, 0, 0),\n",
       "       datetime.datetime(2018, 3, 9, 0, 0),\n",
       "       datetime.datetime(2018, 3, 11, 0, 0),\n",
       "       datetime.datetime(2018, 3, 13, 0, 0),\n",
       "       datetime.datetime(2018, 3, 15, 0, 0),\n",
       "       datetime.datetime(2018, 3, 20, 0, 0),\n",
       "       datetime.datetime(2018, 3, 28, 0, 0),\n",
       "       datetime.datetime(2018, 4, 2, 0, 0),\n",
       "       datetime.datetime(2018, 4, 10, 0, 0),\n",
       "       datetime.datetime(2018, 4, 11, 0, 0),\n",
       "       datetime.datetime(2018, 4, 12, 0, 0),\n",
       "       datetime.datetime(2018, 4, 15, 0, 0),\n",
       "       datetime.datetime(2018, 4, 19, 0, 0),\n",
       "       datetime.datetime(2018, 4, 20, 0, 0),\n",
       "       datetime.datetime(2018, 4, 21, 0, 0),\n",
       "       datetime.datetime(2018, 4, 27, 0, 0),\n",
       "       datetime.datetime(2018, 4, 29, 0, 0),\n",
       "       datetime.datetime(2018, 4, 28, 0, 0),\n",
       "       datetime.datetime(2018, 4, 30, 0, 0),\n",
       "       datetime.datetime(2018, 5, 2, 0, 0),\n",
       "       datetime.datetime(2018, 5, 9, 0, 0),\n",
       "       datetime.datetime(2018, 5, 16, 0, 0),\n",
       "       datetime.datetime(2018, 5, 13, 0, 0),\n",
       "       datetime.datetime(2018, 5, 24, 0, 0),\n",
       "       datetime.datetime(2018, 5, 15, 0, 0),\n",
       "       datetime.datetime(2018, 5, 19, 0, 0),\n",
       "       datetime.datetime(2018, 5, 20, 0, 0),\n",
       "       datetime.datetime(2018, 5, 25, 0, 0),\n",
       "       datetime.datetime(2018, 5, 29, 0, 0),\n",
       "       datetime.datetime(2018, 6, 4, 0, 0),\n",
       "       datetime.datetime(2018, 6, 13, 0, 0),\n",
       "       datetime.datetime(2018, 6, 8, 0, 0),\n",
       "       datetime.datetime(2018, 6, 10, 0, 0),\n",
       "       datetime.datetime(2018, 6, 14, 0, 0),\n",
       "       datetime.datetime(2018, 6, 17, 0, 0),\n",
       "       datetime.datetime(2018, 6, 25, 0, 0),\n",
       "       datetime.datetime(2018, 6, 26, 0, 0),\n",
       "       datetime.datetime(2018, 6, 28, 0, 0),\n",
       "       datetime.datetime(2018, 7, 6, 0, 0),\n",
       "       datetime.datetime(2018, 7, 1, 0, 0),\n",
       "       datetime.datetime(2018, 7, 4, 0, 0),\n",
       "       datetime.datetime(2018, 7, 7, 0, 0),\n",
       "       datetime.datetime(2018, 7, 10, 0, 0),\n",
       "       datetime.datetime(2018, 7, 13, 0, 0),\n",
       "       datetime.datetime(2018, 7, 11, 0, 0),\n",
       "       datetime.datetime(2018, 7, 14, 0, 0),\n",
       "       datetime.datetime(2018, 7, 15, 0, 0),\n",
       "       datetime.datetime(2018, 7, 16, 0, 0),\n",
       "       datetime.datetime(2018, 7, 17, 0, 0),\n",
       "       datetime.datetime(2018, 7, 21, 0, 0),\n",
       "       datetime.datetime(2018, 7, 23, 0, 0),\n",
       "       datetime.datetime(2018, 7, 25, 0, 0),\n",
       "       datetime.datetime(2018, 7, 29, 0, 0),\n",
       "       datetime.datetime(2018, 8, 1, 0, 0),\n",
       "       datetime.datetime(2018, 8, 2, 0, 0),\n",
       "       datetime.datetime(2018, 8, 3, 0, 0),\n",
       "       datetime.datetime(2018, 8, 10, 0, 0),\n",
       "       datetime.datetime(2018, 8, 20, 0, 0),\n",
       "       datetime.datetime(2018, 8, 17, 0, 0),\n",
       "       datetime.datetime(2018, 8, 18, 0, 0),\n",
       "       datetime.datetime(2018, 8, 19, 0, 0),\n",
       "       datetime.datetime(2018, 8, 23, 0, 0),\n",
       "       datetime.datetime(2018, 8, 26, 0, 0),\n",
       "       datetime.datetime(2018, 8, 31, 0, 0),\n",
       "       datetime.datetime(2018, 9, 2, 0, 0),\n",
       "       datetime.datetime(2018, 9, 9, 0, 0),\n",
       "       datetime.datetime(2018, 9, 13, 0, 0),\n",
       "       datetime.datetime(2018, 9, 20, 0, 0),\n",
       "       datetime.datetime(2018, 9, 21, 0, 0),\n",
       "       datetime.datetime(2018, 9, 29, 0, 0),\n",
       "       datetime.datetime(2018, 10, 1, 0, 0),\n",
       "       datetime.datetime(2018, 10, 3, 0, 0),\n",
       "       datetime.datetime(2018, 10, 4, 0, 0),\n",
       "       datetime.datetime(2018, 10, 6, 0, 0),\n",
       "       datetime.datetime(2018, 10, 10, 0, 0),\n",
       "       datetime.datetime(2018, 10, 14, 0, 0),\n",
       "       datetime.datetime(2018, 10, 19, 0, 0),\n",
       "       datetime.datetime(2018, 10, 24, 0, 0),\n",
       "       datetime.datetime(2018, 10, 25, 0, 0),\n",
       "       datetime.datetime(2018, 10, 30, 0, 0),\n",
       "       datetime.datetime(2018, 11, 1, 0, 0),\n",
       "       datetime.datetime(2018, 11, 8, 0, 0),\n",
       "       datetime.datetime(2018, 11, 5, 0, 0),\n",
       "       datetime.datetime(2018, 11, 6, 0, 0),\n",
       "       datetime.datetime(2018, 11, 20, 0, 0),\n",
       "       datetime.datetime(2018, 11, 9, 0, 0),\n",
       "       datetime.datetime(2018, 11, 12, 0, 0),\n",
       "       datetime.datetime(2018, 11, 15, 0, 0),\n",
       "       datetime.datetime(2018, 11, 17, 0, 0),\n",
       "       datetime.datetime(2018, 11, 23, 0, 0),\n",
       "       datetime.datetime(2018, 11, 19, 0, 0),\n",
       "       datetime.datetime(2018, 11, 25, 0, 0),\n",
       "       datetime.datetime(2018, 11, 30, 0, 0),\n",
       "       datetime.datetime(2018, 12, 3, 0, 0),\n",
       "       datetime.datetime(2018, 12, 7, 0, 0),\n",
       "       datetime.datetime(2018, 12, 12, 0, 0),\n",
       "       datetime.datetime(2018, 12, 13, 0, 0),\n",
       "       datetime.datetime(2018, 12, 22, 0, 0),\n",
       "       datetime.datetime(2018, 12, 18, 0, 0),\n",
       "       datetime.datetime(2018, 12, 19, 0, 0),\n",
       "       datetime.datetime(2018, 12, 21, 0, 0),\n",
       "       datetime.datetime(2018, 12, 24, 0, 0),\n",
       "       datetime.datetime(2019, 1, 1, 0, 0),\n",
       "       datetime.datetime(2018, 12, 29, 0, 0),\n",
       "       datetime.datetime(2019, 1, 8, 0, 0),\n",
       "       datetime.datetime(2019, 1, 9, 0, 0),\n",
       "       datetime.datetime(2019, 1, 12, 0, 0),\n",
       "       datetime.datetime(2019, 1, 14, 0, 0),\n",
       "       datetime.datetime(2019, 1, 19, 0, 0),\n",
       "       datetime.datetime(2019, 1, 23, 0, 0),\n",
       "       datetime.datetime(2019, 1, 26, 0, 0),\n",
       "       datetime.datetime(2019, 1, 31, 0, 0),\n",
       "       datetime.datetime(2019, 2, 2, 0, 0),\n",
       "       datetime.datetime(2019, 2, 10, 0, 0),\n",
       "       datetime.datetime(2019, 2, 20, 0, 0),\n",
       "       datetime.datetime(2019, 3, 2, 0, 0),\n",
       "       datetime.datetime(2019, 2, 23, 0, 0),\n",
       "       datetime.datetime(2019, 2, 24, 0, 0),\n",
       "       datetime.datetime(2019, 3, 7, 0, 0),\n",
       "       datetime.datetime(2019, 3, 3, 0, 0), '26/03/2019',\n",
       "       datetime.datetime(2019, 3, 16, 0, 0),\n",
       "       datetime.datetime(2019, 3, 15, 0, 0),\n",
       "       datetime.datetime(2019, 3, 19, 0, 0),\n",
       "       datetime.datetime(2019, 4, 4, 0, 0),\n",
       "       datetime.datetime(2019, 3, 28, 0, 0),\n",
       "       datetime.datetime(2019, 4, 6, 0, 0),\n",
       "       datetime.datetime(2019, 4, 7, 0, 0),\n",
       "       datetime.datetime(2019, 4, 9, 0, 0),\n",
       "       datetime.datetime(2019, 4, 12, 0, 0),\n",
       "       datetime.datetime(2019, 4, 18, 0, 0),\n",
       "       datetime.datetime(2019, 4, 21, 0, 0),\n",
       "       datetime.datetime(2019, 4, 23, 0, 0),\n",
       "       datetime.datetime(2019, 5, 2, 0, 0),\n",
       "       datetime.datetime(2019, 5, 1, 0, 0),\n",
       "       datetime.datetime(2019, 5, 5, 0, 0),\n",
       "       datetime.datetime(2019, 5, 8, 0, 0),\n",
       "       datetime.datetime(2019, 5, 9, 0, 0),\n",
       "       datetime.datetime(2019, 5, 15, 0, 0),\n",
       "       datetime.datetime(2019, 5, 11, 0, 0),\n",
       "       datetime.datetime(2019, 5, 14, 0, 0),\n",
       "       datetime.datetime(2019, 5, 21, 0, 0),\n",
       "       datetime.datetime(2019, 5, 29, 0, 0),\n",
       "       datetime.datetime(2019, 6, 3, 0, 0),\n",
       "       datetime.datetime(2019, 6, 4, 0, 0),\n",
       "       datetime.datetime(2019, 6, 6, 0, 0),\n",
       "       datetime.datetime(2019, 6, 7, 0, 0),\n",
       "       datetime.datetime(2019, 6, 9, 0, 0),\n",
       "       datetime.datetime(2019, 6, 11, 0, 0),\n",
       "       datetime.datetime(2019, 6, 14, 0, 0),\n",
       "       datetime.datetime(2019, 6, 20, 0, 0),\n",
       "       datetime.datetime(2019, 6, 21, 0, 0),\n",
       "       datetime.datetime(2019, 6, 29, 0, 0),\n",
       "       datetime.datetime(2019, 7, 8, 0, 0),\n",
       "       datetime.datetime(2019, 7, 10, 0, 0),\n",
       "       datetime.datetime(2019, 7, 13, 0, 0),\n",
       "       datetime.datetime(2019, 7, 17, 0, 0),\n",
       "       datetime.datetime(2019, 8, 2, 0, 0),\n",
       "       datetime.datetime(2019, 8, 4, 0, 0),\n",
       "       datetime.datetime(2019, 8, 6, 0, 0),\n",
       "       datetime.datetime(2019, 8, 9, 0, 0),\n",
       "       datetime.datetime(2019, 8, 11, 0, 0),\n",
       "       datetime.datetime(2019, 8, 14, 0, 0),\n",
       "       datetime.datetime(2019, 8, 17, 0, 0),\n",
       "       datetime.datetime(2019, 8, 22, 0, 0),\n",
       "       datetime.datetime(2019, 8, 27, 0, 0),\n",
       "       datetime.datetime(2019, 9, 2, 0, 0),\n",
       "       datetime.datetime(2019, 9, 6, 0, 0),\n",
       "       datetime.datetime(2019, 8, 29, 0, 0),\n",
       "       datetime.datetime(2019, 8, 30, 0, 0),\n",
       "       datetime.datetime(2019, 9, 5, 0, 0),\n",
       "       datetime.datetime(2019, 9, 8, 0, 0),\n",
       "       datetime.datetime(2019, 9, 15, 0, 0),\n",
       "       datetime.datetime(2019, 9, 17, 0, 0),\n",
       "       datetime.datetime(2019, 10, 7, 0, 0),\n",
       "       datetime.datetime(2019, 9, 25, 0, 0),\n",
       "       datetime.datetime(2019, 9, 26, 0, 0),\n",
       "       datetime.datetime(2019, 9, 27, 0, 0),\n",
       "       datetime.datetime(2019, 10, 9, 0, 0),\n",
       "       datetime.datetime(2019, 10, 15, 0, 0),\n",
       "       datetime.datetime(2019, 10, 21, 0, 0),\n",
       "       datetime.datetime(2019, 10, 22, 0, 0),\n",
       "       datetime.datetime(2019, 10, 23, 0, 0),\n",
       "       datetime.datetime(2019, 10, 26, 0, 0),\n",
       "       datetime.datetime(2019, 11, 1, 0, 0),\n",
       "       datetime.datetime(2019, 11, 3, 0, 0),\n",
       "       datetime.datetime(2019, 11, 13, 0, 0),\n",
       "       datetime.datetime(2019, 11, 18, 0, 0),\n",
       "       datetime.datetime(2019, 11, 20, 0, 0),\n",
       "       datetime.datetime(2019, 11, 22, 0, 0),\n",
       "       datetime.datetime(2019, 11, 25, 0, 0),\n",
       "       datetime.datetime(2019, 11, 29, 0, 0),\n",
       "       datetime.datetime(2019, 12, 18, 0, 0),\n",
       "       datetime.datetime(2019, 12, 17, 0, 0),\n",
       "       datetime.datetime(2019, 12, 22, 0, 0),\n",
       "       datetime.datetime(2020, 1, 4, 0, 0),\n",
       "       datetime.datetime(2020, 1, 7, 0, 0),\n",
       "       datetime.datetime(2020, 1, 11, 0, 0),\n",
       "       datetime.datetime(2020, 1, 15, 0, 0),\n",
       "       datetime.datetime(2020, 2, 10, 0, 0),\n",
       "       datetime.datetime(2020, 1, 20, 0, 0),\n",
       "       datetime.datetime(2020, 1, 27, 0, 0),\n",
       "       datetime.datetime(2020, 1, 30, 0, 0),\n",
       "       datetime.datetime(2020, 2, 5, 0, 0),\n",
       "       datetime.datetime(2020, 2, 8, 0, 0),\n",
       "       datetime.datetime(2020, 2, 12, 0, 0),\n",
       "       datetime.datetime(2020, 2, 18, 0, 0),\n",
       "       datetime.datetime(2020, 3, 3, 0, 0),\n",
       "       datetime.datetime(2020, 2, 27, 0, 0),\n",
       "       datetime.datetime(2020, 2, 28, 0, 0),\n",
       "       datetime.datetime(2020, 3, 9, 0, 0),\n",
       "       datetime.datetime(2020, 3, 5, 0, 0),\n",
       "       datetime.datetime(2020, 3, 10, 0, 0),\n",
       "       datetime.datetime(2020, 3, 17, 0, 0),\n",
       "       datetime.datetime(2020, 3, 14, 0, 0),\n",
       "       datetime.datetime(2020, 4, 7, 0, 0),\n",
       "       datetime.datetime(2020, 5, 3, 0, 0),\n",
       "       datetime.datetime(2020, 4, 24, 0, 0),\n",
       "       datetime.datetime(2020, 5, 12, 0, 0),\n",
       "       datetime.datetime(2020, 5, 17, 0, 0),\n",
       "       datetime.datetime(2020, 5, 18, 0, 0),\n",
       "       datetime.datetime(2020, 5, 23, 0, 0),\n",
       "       datetime.datetime(2020, 6, 12, 0, 0),\n",
       "       datetime.datetime(2020, 6, 16, 0, 0),\n",
       "       datetime.datetime(2020, 6, 30, 0, 0),\n",
       "       datetime.datetime(2020, 7, 10, 0, 0),\n",
       "       datetime.datetime(2020, 7, 19, 0, 0),\n",
       "       datetime.datetime(2020, 8, 2, 0, 0),\n",
       "       datetime.datetime(2020, 8, 4, 0, 0),\n",
       "       datetime.datetime(2020, 8, 22, 0, 0),\n",
       "       datetime.datetime(2020, 8, 29, 0, 0),\n",
       "       datetime.datetime(2020, 8, 30, 0, 0),\n",
       "       datetime.datetime(2020, 9, 1, 0, 0),\n",
       "       datetime.datetime(2020, 9, 12, 0, 0),\n",
       "       datetime.datetime(2020, 9, 28, 0, 0),\n",
       "       datetime.datetime(2020, 9, 29, 0, 0),\n",
       "       datetime.datetime(2020, 9, 30, 0, 0),\n",
       "       datetime.datetime(2020, 10, 5, 0, 0),\n",
       "       datetime.datetime(2020, 10, 19, 0, 0),\n",
       "       datetime.datetime(2020, 10, 27, 0, 0),\n",
       "       datetime.datetime(2020, 10, 29, 0, 0),\n",
       "       datetime.datetime(2020, 10, 30, 0, 0),\n",
       "       datetime.datetime(2020, 11, 1, 0, 0),\n",
       "       datetime.datetime(2020, 11, 5, 0, 0),\n",
       "       datetime.datetime(2020, 11, 7, 0, 0),\n",
       "       datetime.datetime(2020, 11, 9, 0, 0),\n",
       "       datetime.datetime(2020, 11, 23, 0, 0),\n",
       "       datetime.datetime(2020, 12, 11, 0, 0),\n",
       "       datetime.datetime(2020, 11, 21, 0, 0),\n",
       "       datetime.datetime(2020, 11, 25, 0, 0),\n",
       "       datetime.datetime(2020, 12, 14, 0, 0),\n",
       "       datetime.datetime(2020, 12, 3, 0, 0),\n",
       "       datetime.datetime(2020, 12, 4, 0, 0),\n",
       "       datetime.datetime(2020, 12, 5, 0, 0),\n",
       "       datetime.datetime(2020, 12, 6, 0, 0),\n",
       "       datetime.datetime(2020, 12, 7, 0, 0),\n",
       "       datetime.datetime(2020, 12, 20, 0, 0),\n",
       "       datetime.datetime(2020, 12, 15, 0, 0),\n",
       "       datetime.datetime(2020, 12, 22, 0, 0),\n",
       "       datetime.datetime(2020, 12, 17, 0, 0),\n",
       "       datetime.datetime(2020, 12, 19, 0, 0),\n",
       "       datetime.datetime(2020, 12, 23, 0, 0),\n",
       "       datetime.datetime(2021, 1, 17, 0, 0),\n",
       "       datetime.datetime(2020, 12, 25, 0, 0),\n",
       "       datetime.datetime(2020, 12, 27, 0, 0),\n",
       "       datetime.datetime(2021, 1, 6, 0, 0),\n",
       "       datetime.datetime(2021, 1, 7, 0, 0),\n",
       "       datetime.datetime(2021, 1, 10, 0, 0),\n",
       "       datetime.datetime(2021, 1, 11, 0, 0),\n",
       "       datetime.datetime(2021, 1, 14, 0, 0),\n",
       "       datetime.datetime(2021, 1, 12, 0, 0),\n",
       "       datetime.datetime(2021, 1, 26, 0, 0),\n",
       "       datetime.datetime(2021, 1, 22, 0, 0),\n",
       "       datetime.datetime(2021, 1, 23, 0, 0),\n",
       "       datetime.datetime(2021, 1, 27, 0, 0),\n",
       "       datetime.datetime(2021, 1, 29, 0, 0),\n",
       "       datetime.datetime(2021, 1, 31, 0, 0),\n",
       "       datetime.datetime(2021, 2, 18, 0, 0),\n",
       "       datetime.datetime(2021, 2, 6, 0, 0),\n",
       "       datetime.datetime(2021, 2, 14, 0, 0),\n",
       "       datetime.datetime(2021, 2, 17, 0, 0),\n",
       "       datetime.datetime(2021, 3, 8, 0, 0),\n",
       "       datetime.datetime(2021, 2, 21, 0, 0),\n",
       "       datetime.datetime(2021, 3, 4, 0, 0),\n",
       "       datetime.datetime(2021, 3, 6, 0, 0),\n",
       "       datetime.datetime(2021, 3, 1, 0, 0),\n",
       "       datetime.datetime(2021, 3, 3, 0, 0),\n",
       "       datetime.datetime(2021, 3, 11, 0, 0),\n",
       "       datetime.datetime(2021, 3, 15, 0, 0),\n",
       "       datetime.datetime(2021, 3, 16, 0, 0),\n",
       "       datetime.datetime(2021, 3, 29, 0, 0),\n",
       "       datetime.datetime(2021, 4, 2, 0, 0),\n",
       "       datetime.datetime(2021, 4, 7, 0, 0),\n",
       "       datetime.datetime(2021, 4, 11, 0, 0),\n",
       "       datetime.datetime(2021, 4, 29, 0, 0),\n",
       "       datetime.datetime(2021, 4, 14, 0, 0),\n",
       "       datetime.datetime(2021, 4, 19, 0, 0),\n",
       "       datetime.datetime(2021, 5, 3, 0, 0),\n",
       "       datetime.datetime(2021, 5, 9, 0, 0),\n",
       "       datetime.datetime(2021, 5, 11, 0, 0),\n",
       "       datetime.datetime(2021, 5, 14, 0, 0),\n",
       "       datetime.datetime(2021, 6, 5, 0, 0),\n",
       "       datetime.datetime(2021, 5, 20, 0, 0),\n",
       "       datetime.datetime(2021, 5, 21, 0, 0),\n",
       "       datetime.datetime(2021, 5, 22, 0, 0),\n",
       "       datetime.datetime(2021, 5, 25, 0, 0),\n",
       "       datetime.datetime(2021, 5, 26, 0, 0),\n",
       "       datetime.datetime(2021, 5, 31, 0, 0),\n",
       "       datetime.datetime(2021, 6, 2, 0, 0),\n",
       "       datetime.datetime(2021, 6, 23, 0, 0),\n",
       "       datetime.datetime(2021, 6, 3, 0, 0),\n",
       "       datetime.datetime(2021, 6, 10, 0, 0),\n",
       "       datetime.datetime(2021, 6, 16, 0, 0),\n",
       "       datetime.datetime(2021, 6, 20, 0, 0),\n",
       "       datetime.datetime(2021, 6, 30, 0, 0),\n",
       "       datetime.datetime(2021, 6, 22, 0, 0),\n",
       "       datetime.datetime(2021, 6, 29, 0, 0),\n",
       "       datetime.datetime(2021, 7, 9, 0, 0),\n",
       "       datetime.datetime(2021, 7, 10, 0, 0),\n",
       "       datetime.datetime(2021, 7, 21, 0, 0),\n",
       "       datetime.datetime(2021, 7, 22, 0, 0),\n",
       "       datetime.datetime(2021, 7, 24, 0, 0),\n",
       "       datetime.datetime(2021, 7, 27, 0, 0),\n",
       "       datetime.datetime(2021, 8, 2, 0, 0),\n",
       "       datetime.datetime(2021, 8, 3, 0, 0),\n",
       "       datetime.datetime(2021, 8, 10, 0, 0),\n",
       "       datetime.datetime(2021, 8, 9, 0, 0),\n",
       "       datetime.datetime(2021, 8, 8, 0, 0),\n",
       "       datetime.datetime(2021, 8, 15, 0, 0),\n",
       "       datetime.datetime(2021, 8, 21, 0, 0),\n",
       "       datetime.datetime(2021, 8, 28, 0, 0),\n",
       "       datetime.datetime(2021, 9, 1, 0, 0),\n",
       "       datetime.datetime(2021, 9, 18, 0, 0),\n",
       "       datetime.datetime(2021, 9, 20, 0, 0),\n",
       "       datetime.datetime(2021, 9, 21, 0, 0),\n",
       "       datetime.datetime(2021, 10, 16, 0, 0),\n",
       "       datetime.datetime(2021, 10, 18, 0, 0),\n",
       "       datetime.datetime(2021, 10, 23, 0, 0),\n",
       "       datetime.datetime(2021, 10, 25, 0, 0),\n",
       "       datetime.datetime(2021, 10, 28, 0, 0),\n",
       "       datetime.datetime(2021, 11, 2, 0, 0),\n",
       "       datetime.datetime(2021, 11, 6, 0, 0),\n",
       "       datetime.datetime(2021, 11, 9, 0, 0),\n",
       "       datetime.datetime(2021, 11, 11, 0, 0),\n",
       "       datetime.datetime(2021, 11, 19, 0, 0),\n",
       "       datetime.datetime(2021, 11, 20, 0, 0),\n",
       "       datetime.datetime(2021, 11, 25, 0, 0),\n",
       "       datetime.datetime(2021, 11, 27, 0, 0),\n",
       "       datetime.datetime(2021, 12, 7, 0, 0),\n",
       "       datetime.datetime(2021, 12, 11, 0, 0),\n",
       "       datetime.datetime(2022, 1, 3, 0, 0),\n",
       "       datetime.datetime(2021, 12, 12, 0, 0),\n",
       "       datetime.datetime(2021, 12, 18, 0, 0),\n",
       "       datetime.datetime(2021, 12, 20, 0, 0),\n",
       "       datetime.datetime(2022, 1, 2, 0, 0)], dtype=object)"
      ]
     },
     "execution_count": 125,
     "metadata": {},
     "output_type": "execute_result"
    }
   ],
   "source": [
    "# Ver valores únicos\n",
    "df_h[\"FECHA_FALLECIMIENTO\"].unique()"
   ]
  },
  {
   "cell_type": "code",
   "execution_count": 126,
   "metadata": {},
   "outputs": [],
   "source": [
    "# Queremos cambiar el valor 'antiguo_valor' por 'nuevo_valor'\n",
    "df_h[\"FECHA_FALLECIMIENTO\"] = df_h[\"FECHA_FALLECIMIENTO\"].replace(\"SD\", 0)"
   ]
  },
  {
   "cell_type": "code",
   "execution_count": 127,
   "metadata": {},
   "outputs": [],
   "source": [
    "# Cambio de Fecha a datetime y extracción de año, mes y día\n",
    "df_h[\"FECHA_FALLECIMIENTO\"] = pd.to_datetime(df_h[\"FECHA_FALLECIMIENTO\"])"
   ]
  },
  {
   "cell_type": "code",
   "execution_count": 128,
   "metadata": {},
   "outputs": [],
   "source": [
    "# Extraer de FECHA, el año, mes y día por separado\n",
    "df_h[\"Agno_fallec\"] = df_h[\"FECHA_FALLECIMIENTO\"].dt.year\n",
    "df_h[\"Mes_fallec\"] = df_h[\"FECHA_FALLECIMIENTO\"].dt.month\n",
    "df_h[\"Día_fallec\"] = df_h[\"FECHA_FALLECIMIENTO\"].dt.day"
   ]
  },
  {
   "cell_type": "code",
   "execution_count": 129,
   "metadata": {},
   "outputs": [],
   "source": [
    "# Nueva DF\n",
    "columnas_deseadas_h = [\"ID_hecho\", \"AAAA\", \"MM\", \"DD\", \"ROL\",\n",
    "                        \"VICTIMA\", \"SEXO\", \"EDAD\", \"Agno_fallec\",\n",
    "                        \"Mes_fallec\", \"Día_fallec\"]"
   ]
  },
  {
   "cell_type": "code",
   "execution_count": 130,
   "metadata": {},
   "outputs": [],
   "source": [
    "nueva_df_h = df_h[columnas_deseadas_h]"
   ]
  },
  {
   "cell_type": "code",
   "execution_count": 131,
   "metadata": {},
   "outputs": [
    {
     "data": {
      "text/html": [
       "<div>\n",
       "<style scoped>\n",
       "    .dataframe tbody tr th:only-of-type {\n",
       "        vertical-align: middle;\n",
       "    }\n",
       "\n",
       "    .dataframe tbody tr th {\n",
       "        vertical-align: top;\n",
       "    }\n",
       "\n",
       "    .dataframe thead th {\n",
       "        text-align: right;\n",
       "    }\n",
       "</style>\n",
       "<table border=\"1\" class=\"dataframe\">\n",
       "  <thead>\n",
       "    <tr style=\"text-align: right;\">\n",
       "      <th></th>\n",
       "      <th>ID_hecho</th>\n",
       "      <th>AAAA</th>\n",
       "      <th>MM</th>\n",
       "      <th>DD</th>\n",
       "      <th>ROL</th>\n",
       "      <th>VICTIMA</th>\n",
       "      <th>SEXO</th>\n",
       "      <th>EDAD</th>\n",
       "      <th>Agno_fallec</th>\n",
       "      <th>Mes_fallec</th>\n",
       "      <th>Día_fallec</th>\n",
       "    </tr>\n",
       "  </thead>\n",
       "  <tbody>\n",
       "    <tr>\n",
       "      <th>0</th>\n",
       "      <td>2016-0001</td>\n",
       "      <td>2016</td>\n",
       "      <td>1</td>\n",
       "      <td>1</td>\n",
       "      <td>CONDUCTOR</td>\n",
       "      <td>MOTO</td>\n",
       "      <td>MASCULINO</td>\n",
       "      <td>19</td>\n",
       "      <td>2016</td>\n",
       "      <td>1</td>\n",
       "      <td>1</td>\n",
       "    </tr>\n",
       "    <tr>\n",
       "      <th>1</th>\n",
       "      <td>2016-0002</td>\n",
       "      <td>2016</td>\n",
       "      <td>1</td>\n",
       "      <td>2</td>\n",
       "      <td>CONDUCTOR</td>\n",
       "      <td>AUTO</td>\n",
       "      <td>MASCULINO</td>\n",
       "      <td>70</td>\n",
       "      <td>2016</td>\n",
       "      <td>1</td>\n",
       "      <td>2</td>\n",
       "    </tr>\n",
       "    <tr>\n",
       "      <th>2</th>\n",
       "      <td>2016-0003</td>\n",
       "      <td>2016</td>\n",
       "      <td>1</td>\n",
       "      <td>3</td>\n",
       "      <td>CONDUCTOR</td>\n",
       "      <td>MOTO</td>\n",
       "      <td>MASCULINO</td>\n",
       "      <td>30</td>\n",
       "      <td>2016</td>\n",
       "      <td>1</td>\n",
       "      <td>3</td>\n",
       "    </tr>\n",
       "    <tr>\n",
       "      <th>3</th>\n",
       "      <td>2016-0004</td>\n",
       "      <td>2016</td>\n",
       "      <td>1</td>\n",
       "      <td>10</td>\n",
       "      <td>CONDUCTOR</td>\n",
       "      <td>MOTO</td>\n",
       "      <td>MASCULINO</td>\n",
       "      <td>18</td>\n",
       "      <td>1970</td>\n",
       "      <td>1</td>\n",
       "      <td>1</td>\n",
       "    </tr>\n",
       "    <tr>\n",
       "      <th>4</th>\n",
       "      <td>2016-0005</td>\n",
       "      <td>2016</td>\n",
       "      <td>1</td>\n",
       "      <td>21</td>\n",
       "      <td>CONDUCTOR</td>\n",
       "      <td>MOTO</td>\n",
       "      <td>MASCULINO</td>\n",
       "      <td>29</td>\n",
       "      <td>2016</td>\n",
       "      <td>2</td>\n",
       "      <td>1</td>\n",
       "    </tr>\n",
       "    <tr>\n",
       "      <th>...</th>\n",
       "      <td>...</td>\n",
       "      <td>...</td>\n",
       "      <td>...</td>\n",
       "      <td>...</td>\n",
       "      <td>...</td>\n",
       "      <td>...</td>\n",
       "      <td>...</td>\n",
       "      <td>...</td>\n",
       "      <td>...</td>\n",
       "      <td>...</td>\n",
       "      <td>...</td>\n",
       "    </tr>\n",
       "    <tr>\n",
       "      <th>712</th>\n",
       "      <td>2021-0092</td>\n",
       "      <td>2021</td>\n",
       "      <td>12</td>\n",
       "      <td>12</td>\n",
       "      <td>PEATON</td>\n",
       "      <td>PEATON</td>\n",
       "      <td>FEMENINO</td>\n",
       "      <td>50</td>\n",
       "      <td>2021</td>\n",
       "      <td>12</td>\n",
       "      <td>12</td>\n",
       "    </tr>\n",
       "    <tr>\n",
       "      <th>713</th>\n",
       "      <td>2021-0093</td>\n",
       "      <td>2021</td>\n",
       "      <td>12</td>\n",
       "      <td>13</td>\n",
       "      <td>PASAJERO_ACOMPAÑANTE</td>\n",
       "      <td>MOTO</td>\n",
       "      <td>FEMENINO</td>\n",
       "      <td>18</td>\n",
       "      <td>2021</td>\n",
       "      <td>12</td>\n",
       "      <td>18</td>\n",
       "    </tr>\n",
       "    <tr>\n",
       "      <th>714</th>\n",
       "      <td>2021-0094</td>\n",
       "      <td>2021</td>\n",
       "      <td>12</td>\n",
       "      <td>20</td>\n",
       "      <td>PASAJERO_ACOMPAÑANTE</td>\n",
       "      <td>MOTO</td>\n",
       "      <td>FEMENINO</td>\n",
       "      <td>43</td>\n",
       "      <td>2021</td>\n",
       "      <td>12</td>\n",
       "      <td>20</td>\n",
       "    </tr>\n",
       "    <tr>\n",
       "      <th>715</th>\n",
       "      <td>2021-0095</td>\n",
       "      <td>2021</td>\n",
       "      <td>12</td>\n",
       "      <td>30</td>\n",
       "      <td>CONDUCTOR</td>\n",
       "      <td>MOTO</td>\n",
       "      <td>MASCULINO</td>\n",
       "      <td>27</td>\n",
       "      <td>2022</td>\n",
       "      <td>1</td>\n",
       "      <td>2</td>\n",
       "    </tr>\n",
       "    <tr>\n",
       "      <th>716</th>\n",
       "      <td>2021-0096</td>\n",
       "      <td>2021</td>\n",
       "      <td>12</td>\n",
       "      <td>15</td>\n",
       "      <td>CONDUCTOR</td>\n",
       "      <td>AUTO</td>\n",
       "      <td>MASCULINO</td>\n",
       "      <td>60</td>\n",
       "      <td>2021</td>\n",
       "      <td>12</td>\n",
       "      <td>20</td>\n",
       "    </tr>\n",
       "  </tbody>\n",
       "</table>\n",
       "<p>717 rows × 11 columns</p>\n",
       "</div>"
      ],
      "text/plain": [
       "      ID_hecho  AAAA  MM  DD                   ROL VICTIMA       SEXO  EDAD  \\\n",
       "0    2016-0001  2016   1   1             CONDUCTOR    MOTO  MASCULINO    19   \n",
       "1    2016-0002  2016   1   2             CONDUCTOR    AUTO  MASCULINO    70   \n",
       "2    2016-0003  2016   1   3             CONDUCTOR    MOTO  MASCULINO    30   \n",
       "3    2016-0004  2016   1  10             CONDUCTOR    MOTO  MASCULINO    18   \n",
       "4    2016-0005  2016   1  21             CONDUCTOR    MOTO  MASCULINO    29   \n",
       "..         ...   ...  ..  ..                   ...     ...        ...   ...   \n",
       "712  2021-0092  2021  12  12                PEATON  PEATON   FEMENINO    50   \n",
       "713  2021-0093  2021  12  13  PASAJERO_ACOMPAÑANTE    MOTO   FEMENINO    18   \n",
       "714  2021-0094  2021  12  20  PASAJERO_ACOMPAÑANTE    MOTO   FEMENINO    43   \n",
       "715  2021-0095  2021  12  30             CONDUCTOR    MOTO  MASCULINO    27   \n",
       "716  2021-0096  2021  12  15             CONDUCTOR    AUTO  MASCULINO    60   \n",
       "\n",
       "     Agno_fallec  Mes_fallec  Día_fallec  \n",
       "0           2016           1           1  \n",
       "1           2016           1           2  \n",
       "2           2016           1           3  \n",
       "3           1970           1           1  \n",
       "4           2016           2           1  \n",
       "..           ...         ...         ...  \n",
       "712         2021          12          12  \n",
       "713         2021          12          18  \n",
       "714         2021          12          20  \n",
       "715         2022           1           2  \n",
       "716         2021          12          20  \n",
       "\n",
       "[717 rows x 11 columns]"
      ]
     },
     "execution_count": 131,
     "metadata": {},
     "output_type": "execute_result"
    }
   ],
   "source": [
    "nueva_df_h"
   ]
  },
  {
   "cell_type": "code",
   "execution_count": 132,
   "metadata": {},
   "outputs": [],
   "source": [
    "# Guardar nueva DF a .csv \n",
    "nueva_df_h.to_csv(\"espec_homicid.csv\")"
   ]
  },
  {
   "cell_type": "markdown",
   "metadata": {},
   "source": [
    "DATA DE POBLACIÓN:"
   ]
  },
  {
   "cell_type": "markdown",
   "metadata": {},
   "source": [
    "Población CABA\n",
    "Año Número habitantes CABA Habitantes país\n",
    "2016\t3059122\t43590000\n",
    "2017\t3063728\t44045000\n",
    "2018\t3068043\t44495000\n",
    "2019\t3072029\t44939000\n",
    "2020\t3075646\t45376763\n",
    "2021\t3078836\t45808747\n",
    "PROM\t3069567\t\n",
    "Extraído desde https://data.buenosaires.gob.ar/dataset/estructura-poblacion"
   ]
  },
  {
   "cell_type": "code",
   "execution_count": 133,
   "metadata": {},
   "outputs": [
    {
     "ename": "FileNotFoundError",
     "evalue": "[Errno 2] No such file or directory: 'PobCABA.csv'",
     "output_type": "error",
     "traceback": [
      "\u001b[1;31m---------------------------------------------------------------------------\u001b[0m",
      "\u001b[1;31mFileNotFoundError\u001b[0m                         Traceback (most recent call last)",
      "Cell \u001b[1;32mIn[133], line 2\u001b[0m\n\u001b[0;32m      1\u001b[0m \u001b[38;5;66;03m# Abrir data de población de CABA\u001b[39;00m\n\u001b[1;32m----> 2\u001b[0m df_poblacion \u001b[38;5;241m=\u001b[39m \u001b[43mpd\u001b[49m\u001b[38;5;241;43m.\u001b[39;49m\u001b[43mread_csv\u001b[49m\u001b[43m(\u001b[49m\u001b[38;5;124;43mr\u001b[39;49m\u001b[38;5;124;43m\"\u001b[39;49m\u001b[38;5;124;43mPobCABA.csv\u001b[39;49m\u001b[38;5;124;43m\"\u001b[39;49m\u001b[43m)\u001b[49m\n",
      "File \u001b[1;32mc:\\Users\\56988\\anaconda3\\Lib\\site-packages\\pandas\\io\\parsers\\readers.py:912\u001b[0m, in \u001b[0;36mread_csv\u001b[1;34m(filepath_or_buffer, sep, delimiter, header, names, index_col, usecols, dtype, engine, converters, true_values, false_values, skipinitialspace, skiprows, skipfooter, nrows, na_values, keep_default_na, na_filter, verbose, skip_blank_lines, parse_dates, infer_datetime_format, keep_date_col, date_parser, date_format, dayfirst, cache_dates, iterator, chunksize, compression, thousands, decimal, lineterminator, quotechar, quoting, doublequote, escapechar, comment, encoding, encoding_errors, dialect, on_bad_lines, delim_whitespace, low_memory, memory_map, float_precision, storage_options, dtype_backend)\u001b[0m\n\u001b[0;32m    899\u001b[0m kwds_defaults \u001b[38;5;241m=\u001b[39m _refine_defaults_read(\n\u001b[0;32m    900\u001b[0m     dialect,\n\u001b[0;32m    901\u001b[0m     delimiter,\n\u001b[1;32m   (...)\u001b[0m\n\u001b[0;32m    908\u001b[0m     dtype_backend\u001b[38;5;241m=\u001b[39mdtype_backend,\n\u001b[0;32m    909\u001b[0m )\n\u001b[0;32m    910\u001b[0m kwds\u001b[38;5;241m.\u001b[39mupdate(kwds_defaults)\n\u001b[1;32m--> 912\u001b[0m \u001b[38;5;28;01mreturn\u001b[39;00m \u001b[43m_read\u001b[49m\u001b[43m(\u001b[49m\u001b[43mfilepath_or_buffer\u001b[49m\u001b[43m,\u001b[49m\u001b[43m \u001b[49m\u001b[43mkwds\u001b[49m\u001b[43m)\u001b[49m\n",
      "File \u001b[1;32mc:\\Users\\56988\\anaconda3\\Lib\\site-packages\\pandas\\io\\parsers\\readers.py:577\u001b[0m, in \u001b[0;36m_read\u001b[1;34m(filepath_or_buffer, kwds)\u001b[0m\n\u001b[0;32m    574\u001b[0m _validate_names(kwds\u001b[38;5;241m.\u001b[39mget(\u001b[38;5;124m\"\u001b[39m\u001b[38;5;124mnames\u001b[39m\u001b[38;5;124m\"\u001b[39m, \u001b[38;5;28;01mNone\u001b[39;00m))\n\u001b[0;32m    576\u001b[0m \u001b[38;5;66;03m# Create the parser.\u001b[39;00m\n\u001b[1;32m--> 577\u001b[0m parser \u001b[38;5;241m=\u001b[39m \u001b[43mTextFileReader\u001b[49m\u001b[43m(\u001b[49m\u001b[43mfilepath_or_buffer\u001b[49m\u001b[43m,\u001b[49m\u001b[43m \u001b[49m\u001b[38;5;241;43m*\u001b[39;49m\u001b[38;5;241;43m*\u001b[39;49m\u001b[43mkwds\u001b[49m\u001b[43m)\u001b[49m\n\u001b[0;32m    579\u001b[0m \u001b[38;5;28;01mif\u001b[39;00m chunksize \u001b[38;5;129;01mor\u001b[39;00m iterator:\n\u001b[0;32m    580\u001b[0m     \u001b[38;5;28;01mreturn\u001b[39;00m parser\n",
      "File \u001b[1;32mc:\\Users\\56988\\anaconda3\\Lib\\site-packages\\pandas\\io\\parsers\\readers.py:1407\u001b[0m, in \u001b[0;36mTextFileReader.__init__\u001b[1;34m(self, f, engine, **kwds)\u001b[0m\n\u001b[0;32m   1404\u001b[0m     \u001b[38;5;28mself\u001b[39m\u001b[38;5;241m.\u001b[39moptions[\u001b[38;5;124m\"\u001b[39m\u001b[38;5;124mhas_index_names\u001b[39m\u001b[38;5;124m\"\u001b[39m] \u001b[38;5;241m=\u001b[39m kwds[\u001b[38;5;124m\"\u001b[39m\u001b[38;5;124mhas_index_names\u001b[39m\u001b[38;5;124m\"\u001b[39m]\n\u001b[0;32m   1406\u001b[0m \u001b[38;5;28mself\u001b[39m\u001b[38;5;241m.\u001b[39mhandles: IOHandles \u001b[38;5;241m|\u001b[39m \u001b[38;5;28;01mNone\u001b[39;00m \u001b[38;5;241m=\u001b[39m \u001b[38;5;28;01mNone\u001b[39;00m\n\u001b[1;32m-> 1407\u001b[0m \u001b[38;5;28mself\u001b[39m\u001b[38;5;241m.\u001b[39m_engine \u001b[38;5;241m=\u001b[39m \u001b[38;5;28;43mself\u001b[39;49m\u001b[38;5;241;43m.\u001b[39;49m\u001b[43m_make_engine\u001b[49m\u001b[43m(\u001b[49m\u001b[43mf\u001b[49m\u001b[43m,\u001b[49m\u001b[43m \u001b[49m\u001b[38;5;28;43mself\u001b[39;49m\u001b[38;5;241;43m.\u001b[39;49m\u001b[43mengine\u001b[49m\u001b[43m)\u001b[49m\n",
      "File \u001b[1;32mc:\\Users\\56988\\anaconda3\\Lib\\site-packages\\pandas\\io\\parsers\\readers.py:1661\u001b[0m, in \u001b[0;36mTextFileReader._make_engine\u001b[1;34m(self, f, engine)\u001b[0m\n\u001b[0;32m   1659\u001b[0m     \u001b[38;5;28;01mif\u001b[39;00m \u001b[38;5;124m\"\u001b[39m\u001b[38;5;124mb\u001b[39m\u001b[38;5;124m\"\u001b[39m \u001b[38;5;129;01mnot\u001b[39;00m \u001b[38;5;129;01min\u001b[39;00m mode:\n\u001b[0;32m   1660\u001b[0m         mode \u001b[38;5;241m+\u001b[39m\u001b[38;5;241m=\u001b[39m \u001b[38;5;124m\"\u001b[39m\u001b[38;5;124mb\u001b[39m\u001b[38;5;124m\"\u001b[39m\n\u001b[1;32m-> 1661\u001b[0m \u001b[38;5;28mself\u001b[39m\u001b[38;5;241m.\u001b[39mhandles \u001b[38;5;241m=\u001b[39m \u001b[43mget_handle\u001b[49m\u001b[43m(\u001b[49m\n\u001b[0;32m   1662\u001b[0m \u001b[43m    \u001b[49m\u001b[43mf\u001b[49m\u001b[43m,\u001b[49m\n\u001b[0;32m   1663\u001b[0m \u001b[43m    \u001b[49m\u001b[43mmode\u001b[49m\u001b[43m,\u001b[49m\n\u001b[0;32m   1664\u001b[0m \u001b[43m    \u001b[49m\u001b[43mencoding\u001b[49m\u001b[38;5;241;43m=\u001b[39;49m\u001b[38;5;28;43mself\u001b[39;49m\u001b[38;5;241;43m.\u001b[39;49m\u001b[43moptions\u001b[49m\u001b[38;5;241;43m.\u001b[39;49m\u001b[43mget\u001b[49m\u001b[43m(\u001b[49m\u001b[38;5;124;43m\"\u001b[39;49m\u001b[38;5;124;43mencoding\u001b[39;49m\u001b[38;5;124;43m\"\u001b[39;49m\u001b[43m,\u001b[49m\u001b[43m \u001b[49m\u001b[38;5;28;43;01mNone\u001b[39;49;00m\u001b[43m)\u001b[49m\u001b[43m,\u001b[49m\n\u001b[0;32m   1665\u001b[0m \u001b[43m    \u001b[49m\u001b[43mcompression\u001b[49m\u001b[38;5;241;43m=\u001b[39;49m\u001b[38;5;28;43mself\u001b[39;49m\u001b[38;5;241;43m.\u001b[39;49m\u001b[43moptions\u001b[49m\u001b[38;5;241;43m.\u001b[39;49m\u001b[43mget\u001b[49m\u001b[43m(\u001b[49m\u001b[38;5;124;43m\"\u001b[39;49m\u001b[38;5;124;43mcompression\u001b[39;49m\u001b[38;5;124;43m\"\u001b[39;49m\u001b[43m,\u001b[49m\u001b[43m \u001b[49m\u001b[38;5;28;43;01mNone\u001b[39;49;00m\u001b[43m)\u001b[49m\u001b[43m,\u001b[49m\n\u001b[0;32m   1666\u001b[0m \u001b[43m    \u001b[49m\u001b[43mmemory_map\u001b[49m\u001b[38;5;241;43m=\u001b[39;49m\u001b[38;5;28;43mself\u001b[39;49m\u001b[38;5;241;43m.\u001b[39;49m\u001b[43moptions\u001b[49m\u001b[38;5;241;43m.\u001b[39;49m\u001b[43mget\u001b[49m\u001b[43m(\u001b[49m\u001b[38;5;124;43m\"\u001b[39;49m\u001b[38;5;124;43mmemory_map\u001b[39;49m\u001b[38;5;124;43m\"\u001b[39;49m\u001b[43m,\u001b[49m\u001b[43m \u001b[49m\u001b[38;5;28;43;01mFalse\u001b[39;49;00m\u001b[43m)\u001b[49m\u001b[43m,\u001b[49m\n\u001b[0;32m   1667\u001b[0m \u001b[43m    \u001b[49m\u001b[43mis_text\u001b[49m\u001b[38;5;241;43m=\u001b[39;49m\u001b[43mis_text\u001b[49m\u001b[43m,\u001b[49m\n\u001b[0;32m   1668\u001b[0m \u001b[43m    \u001b[49m\u001b[43merrors\u001b[49m\u001b[38;5;241;43m=\u001b[39;49m\u001b[38;5;28;43mself\u001b[39;49m\u001b[38;5;241;43m.\u001b[39;49m\u001b[43moptions\u001b[49m\u001b[38;5;241;43m.\u001b[39;49m\u001b[43mget\u001b[49m\u001b[43m(\u001b[49m\u001b[38;5;124;43m\"\u001b[39;49m\u001b[38;5;124;43mencoding_errors\u001b[39;49m\u001b[38;5;124;43m\"\u001b[39;49m\u001b[43m,\u001b[49m\u001b[43m \u001b[49m\u001b[38;5;124;43m\"\u001b[39;49m\u001b[38;5;124;43mstrict\u001b[39;49m\u001b[38;5;124;43m\"\u001b[39;49m\u001b[43m)\u001b[49m\u001b[43m,\u001b[49m\n\u001b[0;32m   1669\u001b[0m \u001b[43m    \u001b[49m\u001b[43mstorage_options\u001b[49m\u001b[38;5;241;43m=\u001b[39;49m\u001b[38;5;28;43mself\u001b[39;49m\u001b[38;5;241;43m.\u001b[39;49m\u001b[43moptions\u001b[49m\u001b[38;5;241;43m.\u001b[39;49m\u001b[43mget\u001b[49m\u001b[43m(\u001b[49m\u001b[38;5;124;43m\"\u001b[39;49m\u001b[38;5;124;43mstorage_options\u001b[39;49m\u001b[38;5;124;43m\"\u001b[39;49m\u001b[43m,\u001b[49m\u001b[43m \u001b[49m\u001b[38;5;28;43;01mNone\u001b[39;49;00m\u001b[43m)\u001b[49m\u001b[43m,\u001b[49m\n\u001b[0;32m   1670\u001b[0m \u001b[43m\u001b[49m\u001b[43m)\u001b[49m\n\u001b[0;32m   1671\u001b[0m \u001b[38;5;28;01massert\u001b[39;00m \u001b[38;5;28mself\u001b[39m\u001b[38;5;241m.\u001b[39mhandles \u001b[38;5;129;01mis\u001b[39;00m \u001b[38;5;129;01mnot\u001b[39;00m \u001b[38;5;28;01mNone\u001b[39;00m\n\u001b[0;32m   1672\u001b[0m f \u001b[38;5;241m=\u001b[39m \u001b[38;5;28mself\u001b[39m\u001b[38;5;241m.\u001b[39mhandles\u001b[38;5;241m.\u001b[39mhandle\n",
      "File \u001b[1;32mc:\\Users\\56988\\anaconda3\\Lib\\site-packages\\pandas\\io\\common.py:859\u001b[0m, in \u001b[0;36mget_handle\u001b[1;34m(path_or_buf, mode, encoding, compression, memory_map, is_text, errors, storage_options)\u001b[0m\n\u001b[0;32m    854\u001b[0m \u001b[38;5;28;01melif\u001b[39;00m \u001b[38;5;28misinstance\u001b[39m(handle, \u001b[38;5;28mstr\u001b[39m):\n\u001b[0;32m    855\u001b[0m     \u001b[38;5;66;03m# Check whether the filename is to be opened in binary mode.\u001b[39;00m\n\u001b[0;32m    856\u001b[0m     \u001b[38;5;66;03m# Binary mode does not support 'encoding' and 'newline'.\u001b[39;00m\n\u001b[0;32m    857\u001b[0m     \u001b[38;5;28;01mif\u001b[39;00m ioargs\u001b[38;5;241m.\u001b[39mencoding \u001b[38;5;129;01mand\u001b[39;00m \u001b[38;5;124m\"\u001b[39m\u001b[38;5;124mb\u001b[39m\u001b[38;5;124m\"\u001b[39m \u001b[38;5;129;01mnot\u001b[39;00m \u001b[38;5;129;01min\u001b[39;00m ioargs\u001b[38;5;241m.\u001b[39mmode:\n\u001b[0;32m    858\u001b[0m         \u001b[38;5;66;03m# Encoding\u001b[39;00m\n\u001b[1;32m--> 859\u001b[0m         handle \u001b[38;5;241m=\u001b[39m \u001b[38;5;28mopen\u001b[39m(\n\u001b[0;32m    860\u001b[0m             handle,\n\u001b[0;32m    861\u001b[0m             ioargs\u001b[38;5;241m.\u001b[39mmode,\n\u001b[0;32m    862\u001b[0m             encoding\u001b[38;5;241m=\u001b[39mioargs\u001b[38;5;241m.\u001b[39mencoding,\n\u001b[0;32m    863\u001b[0m             errors\u001b[38;5;241m=\u001b[39merrors,\n\u001b[0;32m    864\u001b[0m             newline\u001b[38;5;241m=\u001b[39m\u001b[38;5;124m\"\u001b[39m\u001b[38;5;124m\"\u001b[39m,\n\u001b[0;32m    865\u001b[0m         )\n\u001b[0;32m    866\u001b[0m     \u001b[38;5;28;01melse\u001b[39;00m:\n\u001b[0;32m    867\u001b[0m         \u001b[38;5;66;03m# Binary mode\u001b[39;00m\n\u001b[0;32m    868\u001b[0m         handle \u001b[38;5;241m=\u001b[39m \u001b[38;5;28mopen\u001b[39m(handle, ioargs\u001b[38;5;241m.\u001b[39mmode)\n",
      "\u001b[1;31mFileNotFoundError\u001b[0m: [Errno 2] No such file or directory: 'PobCABA.csv'"
     ]
    }
   ],
   "source": [
    "# Abrir data de población de CABA\n",
    "df_poblacion = pd.read_csv(r\"PobCABA.csv\")"
   ]
  },
  {
   "cell_type": "markdown",
   "metadata": {},
   "source": [
    "Se realiza un ETL:"
   ]
  },
  {
   "cell_type": "code",
   "execution_count": null,
   "metadata": {},
   "outputs": [
    {
     "data": {
      "text/html": [
       "<div>\n",
       "<style scoped>\n",
       "    .dataframe tbody tr th:only-of-type {\n",
       "        vertical-align: middle;\n",
       "    }\n",
       "\n",
       "    .dataframe tbody tr th {\n",
       "        vertical-align: top;\n",
       "    }\n",
       "\n",
       "    .dataframe thead th {\n",
       "        text-align: right;\n",
       "    }\n",
       "</style>\n",
       "<table border=\"1\" class=\"dataframe\">\n",
       "  <thead>\n",
       "    <tr style=\"text-align: right;\">\n",
       "      <th></th>\n",
       "      <th>Año;Número habitantes CABA</th>\n",
       "    </tr>\n",
       "  </thead>\n",
       "  <tbody>\n",
       "    <tr>\n",
       "      <th>0</th>\n",
       "      <td>2016;3059122</td>\n",
       "    </tr>\n",
       "    <tr>\n",
       "      <th>1</th>\n",
       "      <td>2017;3063728</td>\n",
       "    </tr>\n",
       "    <tr>\n",
       "      <th>2</th>\n",
       "      <td>2018;3068043</td>\n",
       "    </tr>\n",
       "    <tr>\n",
       "      <th>3</th>\n",
       "      <td>2019;3072029</td>\n",
       "    </tr>\n",
       "    <tr>\n",
       "      <th>4</th>\n",
       "      <td>2020;3075646</td>\n",
       "    </tr>\n",
       "    <tr>\n",
       "      <th>5</th>\n",
       "      <td>2021;3078836</td>\n",
       "    </tr>\n",
       "  </tbody>\n",
       "</table>\n",
       "</div>"
      ],
      "text/plain": [
       "  Año;Número habitantes CABA\n",
       "0               2016;3059122\n",
       "1               2017;3063728\n",
       "2               2018;3068043\n",
       "3               2019;3072029\n",
       "4               2020;3075646\n",
       "5               2021;3078836"
      ]
     },
     "execution_count": 55,
     "metadata": {},
     "output_type": "execute_result"
    }
   ],
   "source": [
    "df_poblacion"
   ]
  },
  {
   "cell_type": "code",
   "execution_count": null,
   "metadata": {},
   "outputs": [],
   "source": [
    "# Crea una nueva columna que contenga el año de cada registro\n",
    "df_poblacion[\"Año\"] = df_poblacion[\"Año;Número habitantes CABA\"].str.split(';').str[0]"
   ]
  },
  {
   "cell_type": "code",
   "execution_count": null,
   "metadata": {},
   "outputs": [],
   "source": [
    "# Separa la columna \"Año;Número habitantes CABA\" en dos columnas distintas, utilizando el separador \";\".\n",
    "df_poblacion[[\"Año\", \"Número habitantes CABA\"]] = df_poblacion[\"Año;Número habitantes CABA\"].str.split(';', expand=True)"
   ]
  },
  {
   "cell_type": "code",
   "execution_count": null,
   "metadata": {},
   "outputs": [],
   "source": [
    "# Elimina la columna \"Año;Número habitantes CABA\"\n",
    "df_poblacion.drop(columns=[\"Año;Número habitantes CABA\"], inplace=True)"
   ]
  },
  {
   "cell_type": "code",
   "execution_count": null,
   "metadata": {},
   "outputs": [],
   "source": [
    "# Guardar nueva DF a .csv \n",
    "df_poblacion.to_csv(\"poblacCABA.csv\")"
   ]
  }
 ],
 "metadata": {
  "kernelspec": {
   "display_name": "base",
   "language": "python",
   "name": "python3"
  },
  "language_info": {
   "codemirror_mode": {
    "name": "ipython",
    "version": 3
   },
   "file_extension": ".py",
   "mimetype": "text/x-python",
   "name": "python",
   "nbconvert_exporter": "python",
   "pygments_lexer": "ipython3",
   "version": "3.11.5"
  }
 },
 "nbformat": 4,
 "nbformat_minor": 2
}
