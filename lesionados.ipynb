{
 "cells": [
  {
   "cell_type": "markdown",
   "metadata": {},
   "source": [
    "Abrir archivo de lesionados"
   ]
  },
  {
   "cell_type": "code",
   "execution_count": 14,
   "metadata": {},
   "outputs": [],
   "source": [
    "# Librerías:\n",
    "import openpyxl\n",
    "import pandas as pd\n",
    "import os\n",
    "from datetime import datetime"
   ]
  },
  {
   "cell_type": "code",
   "execution_count": 15,
   "metadata": {},
   "outputs": [],
   "source": [
    "# Ruta al archivo Excel\n",
    "archivo_excel = r\"BaseDatos/lesiones.xlsx\""
   ]
  },
  {
   "cell_type": "code",
   "execution_count": 16,
   "metadata": {},
   "outputs": [],
   "source": [
    "# Cargar el archivo\n",
    "libro_trabajo = openpyxl.load_workbook(archivo_excel)"
   ]
  },
  {
   "cell_type": "code",
   "execution_count": 17,
   "metadata": {},
   "outputs": [],
   "source": [
    "# Obtener la hoja activa (por defecto)\n",
    "hoja_activa = libro_trabajo.active"
   ]
  },
  {
   "cell_type": "code",
   "execution_count": 18,
   "metadata": {},
   "outputs": [],
   "source": [
    "# Leer una celda\n",
    "celda = hoja_activa['A1']\n",
    "valor = celda.value"
   ]
  },
  {
   "cell_type": "code",
   "execution_count": 19,
   "metadata": {},
   "outputs": [
    {
     "name": "stdout",
     "output_type": "stream",
     "text": [
      "id\n"
     ]
    }
   ],
   "source": [
    "# Imprimir el valor de la celda\n",
    "print(valor)"
   ]
  },
  {
   "cell_type": "code",
   "execution_count": 20,
   "metadata": {},
   "outputs": [],
   "source": [
    "# Llevar el archivo excel a un dataframe\n",
    "df = pd.read_excel(r\"BaseDatos/lesiones.xlsx\")"
   ]
  },
  {
   "cell_type": "markdown",
   "metadata": {},
   "source": [
    "Se realiza ETL:"
   ]
  },
  {
   "cell_type": "code",
   "execution_count": 21,
   "metadata": {},
   "outputs": [
    {
     "data": {
      "text/html": [
       "<div>\n",
       "<style scoped>\n",
       "    .dataframe tbody tr th:only-of-type {\n",
       "        vertical-align: middle;\n",
       "    }\n",
       "\n",
       "    .dataframe tbody tr th {\n",
       "        vertical-align: top;\n",
       "    }\n",
       "\n",
       "    .dataframe thead th {\n",
       "        text-align: right;\n",
       "    }\n",
       "</style>\n",
       "<table border=\"1\" class=\"dataframe\">\n",
       "  <thead>\n",
       "    <tr style=\"text-align: right;\">\n",
       "      <th></th>\n",
       "      <th>id</th>\n",
       "      <th>n_victimas</th>\n",
       "      <th>aaaa</th>\n",
       "      <th>mm</th>\n",
       "      <th>dd</th>\n",
       "      <th>fecha</th>\n",
       "      <th>hora</th>\n",
       "      <th>franja_hora</th>\n",
       "      <th>direccion_normalizada</th>\n",
       "      <th>comuna</th>\n",
       "      <th>...</th>\n",
       "      <th>latutid</th>\n",
       "      <th>victima</th>\n",
       "      <th>acusado</th>\n",
       "      <th>participantes</th>\n",
       "      <th>moto</th>\n",
       "      <th>auto</th>\n",
       "      <th>transporte_publico</th>\n",
       "      <th>camion</th>\n",
       "      <th>ciclista</th>\n",
       "      <th>gravedad</th>\n",
       "    </tr>\n",
       "  </thead>\n",
       "  <tbody>\n",
       "    <tr>\n",
       "      <th>0</th>\n",
       "      <td>LC-2019-0000179</td>\n",
       "      <td>1</td>\n",
       "      <td>2019</td>\n",
       "      <td>1</td>\n",
       "      <td>1</td>\n",
       "      <td>2019-01-01 00:00:00</td>\n",
       "      <td>09:00:00</td>\n",
       "      <td>9</td>\n",
       "      <td>SD</td>\n",
       "      <td>14</td>\n",
       "      <td>...</td>\n",
       "      <td>-34.559658</td>\n",
       "      <td>CICLISTA</td>\n",
       "      <td>SD</td>\n",
       "      <td>CICLISTA-SD</td>\n",
       "      <td>SD</td>\n",
       "      <td>SD</td>\n",
       "      <td>SD</td>\n",
       "      <td>SD</td>\n",
       "      <td>x</td>\n",
       "      <td>SD</td>\n",
       "    </tr>\n",
       "    <tr>\n",
       "      <th>1</th>\n",
       "      <td>LC-2019-0000053</td>\n",
       "      <td>1</td>\n",
       "      <td>2019</td>\n",
       "      <td>1</td>\n",
       "      <td>1</td>\n",
       "      <td>2019-01-01 00:00:00</td>\n",
       "      <td>01:55:00</td>\n",
       "      <td>1</td>\n",
       "      <td>SD</td>\n",
       "      <td>8</td>\n",
       "      <td>...</td>\n",
       "      <td>-34.669125</td>\n",
       "      <td>AUTO</td>\n",
       "      <td>SD</td>\n",
       "      <td>AUTO-SD</td>\n",
       "      <td>SD</td>\n",
       "      <td>x</td>\n",
       "      <td>SD</td>\n",
       "      <td>SD</td>\n",
       "      <td>SD</td>\n",
       "      <td>SD</td>\n",
       "    </tr>\n",
       "  </tbody>\n",
       "</table>\n",
       "<p>2 rows × 27 columns</p>\n",
       "</div>"
      ],
      "text/plain": [
       "                id  n_victimas  aaaa  mm  dd                fecha      hora  \\\n",
       "0  LC-2019-0000179           1  2019   1   1  2019-01-01 00:00:00  09:00:00   \n",
       "1  LC-2019-0000053           1  2019   1   1  2019-01-01 00:00:00  01:55:00   \n",
       "\n",
       "  franja_hora direccion_normalizada comuna  ...     latutid   victima acusado  \\\n",
       "0           9                    SD     14  ...  -34.559658  CICLISTA      SD   \n",
       "1           1                    SD      8  ...  -34.669125      AUTO      SD   \n",
       "\n",
       "   participantes moto auto transporte_publico camion ciclista gravedad  \n",
       "0    CICLISTA-SD   SD   SD                 SD     SD        x       SD  \n",
       "1        AUTO-SD   SD    x                 SD     SD       SD       SD  \n",
       "\n",
       "[2 rows x 27 columns]"
      ]
     },
     "execution_count": 21,
     "metadata": {},
     "output_type": "execute_result"
    }
   ],
   "source": [
    "df.head(2)"
   ]
  },
  {
   "cell_type": "code",
   "execution_count": 22,
   "metadata": {},
   "outputs": [
    {
     "data": {
      "text/plain": [
       "Index(['id', 'n_victimas', 'aaaa', 'mm', 'dd', 'fecha', 'hora', 'franja_hora',\n",
       "       'direccion_normalizada', 'comuna', 'tipo_calle', 'otra_direccion',\n",
       "       'calle', 'altura', 'cruce', 'geocodificacion_CABA', 'longitud',\n",
       "       'latutid', 'victima', 'acusado', 'participantes', 'moto', 'auto',\n",
       "       'transporte_publico', 'camion', 'ciclista', 'gravedad'],\n",
       "      dtype='object')"
      ]
     },
     "execution_count": 22,
     "metadata": {},
     "output_type": "execute_result"
    }
   ],
   "source": [
    "# Mostrar nombres de las columnas de la DF\n",
    "df.columns"
   ]
  },
  {
   "cell_type": "code",
   "execution_count": 24,
   "metadata": {},
   "outputs": [
    {
     "data": {
      "text/plain": [
       "id                           0\n",
       "n_victimas                   0\n",
       "aaaa                         0\n",
       "mm                           0\n",
       "dd                           0\n",
       "fecha                        0\n",
       "hora                         0\n",
       "franja_hora                  5\n",
       "direccion_normalizada       53\n",
       "comuna                     169\n",
       "tipo_calle                   0\n",
       "otra_direccion               0\n",
       "calle                    10918\n",
       "altura                   11014\n",
       "cruce                    14378\n",
       "geocodificacion_CABA        39\n",
       "longitud                   262\n",
       "latutid                    262\n",
       "victima                      0\n",
       "acusado                      0\n",
       "participantes                0\n",
       "moto                        93\n",
       "auto                        93\n",
       "transporte_publico          93\n",
       "camion                      93\n",
       "ciclista                    93\n",
       "gravedad                     0\n",
       "dtype: int64"
      ]
     },
     "execution_count": 24,
     "metadata": {},
     "output_type": "execute_result"
    }
   ],
   "source": [
    "# Cuántos nulos hay por columna\n",
    "df.isnull().sum()"
   ]
  },
  {
   "cell_type": "code",
   "execution_count": 25,
   "metadata": {},
   "outputs": [
    {
     "data": {
      "text/plain": [
       "array(['LC-2019-0000179', 'LC-2019-0000053', 'LC-2019-0000063', ...,\n",
       "       'LC-2021-0652907', 'LC-2021-0652921', 'LC-2020-0244615'],\n",
       "      dtype=object)"
      ]
     },
     "execution_count": 25,
     "metadata": {},
     "output_type": "execute_result"
    }
   ],
   "source": [
    "# Ver valores únicos\n",
    "df[\"id\"].unique()"
   ]
  },
  {
   "cell_type": "code",
   "execution_count": 26,
   "metadata": {},
   "outputs": [
    {
     "data": {
      "text/plain": [
       "array([ 1,  4,  2,  3,  5, 10,  6, 16,  8,  0,  7], dtype=int64)"
      ]
     },
     "execution_count": 26,
     "metadata": {},
     "output_type": "execute_result"
    }
   ],
   "source": [
    "# Ver valores únicos\n",
    "df[\"n_victimas\"].unique()"
   ]
  },
  {
   "cell_type": "code",
   "execution_count": 27,
   "metadata": {},
   "outputs": [
    {
     "data": {
      "text/plain": [
       "array([2019, 2020, 2021], dtype=int64)"
      ]
     },
     "execution_count": 27,
     "metadata": {},
     "output_type": "execute_result"
    }
   ],
   "source": [
    "# Ver valores únicos\n",
    "df[\"aaaa\"].unique()"
   ]
  },
  {
   "cell_type": "code",
   "execution_count": 28,
   "metadata": {},
   "outputs": [
    {
     "data": {
      "text/plain": [
       "array([ 1,  2,  3,  4,  5,  6,  7,  8,  9, 10, 11, 12], dtype=int64)"
      ]
     },
     "execution_count": 28,
     "metadata": {},
     "output_type": "execute_result"
    }
   ],
   "source": [
    "# Ver valores únicos\n",
    "df[\"mm\"].unique()"
   ]
  },
  {
   "cell_type": "code",
   "execution_count": 29,
   "metadata": {},
   "outputs": [
    {
     "data": {
      "text/plain": [
       "array([ 1,  2,  3,  4,  5,  6,  7,  8,  9, 10, 11, 12, 13, 14, 15, 16, 17,\n",
       "       18, 19, 20, 21, 22, 23, 24, 25, 26, 27, 28, 29, 30, 31],\n",
       "      dtype=int64)"
      ]
     },
     "execution_count": 29,
     "metadata": {},
     "output_type": "execute_result"
    }
   ],
   "source": [
    "# Ver valores únicos\n",
    "df[\"dd\"].unique()"
   ]
  },
  {
   "cell_type": "code",
   "execution_count": 30,
   "metadata": {},
   "outputs": [
    {
     "data": {
      "text/plain": [
       "array([datetime.datetime(2019, 1, 1, 0, 0),\n",
       "       datetime.datetime(2019, 1, 2, 0, 0),\n",
       "       datetime.datetime(2019, 1, 3, 0, 0), ...,\n",
       "       datetime.datetime(2021, 12, 30, 0, 0),\n",
       "       datetime.datetime(2021, 12, 31, 0, 0), '5/17/2020'], dtype=object)"
      ]
     },
     "execution_count": 30,
     "metadata": {},
     "output_type": "execute_result"
    }
   ],
   "source": [
    "# Ver valores únicos\n",
    "df[\"fecha\"].unique()"
   ]
  },
  {
   "cell_type": "code",
   "execution_count": 31,
   "metadata": {},
   "outputs": [],
   "source": [
    "# Supongamos que tienes un DataFrame llamado 'df' con una columna llamada 'mi_columna'\n",
    "# Puedes acceder a esa columna de la siguiente manera:\n",
    "columna_deseada = df[\"fecha\"]"
   ]
  },
  {
   "cell_type": "code",
   "execution_count": 32,
   "metadata": {},
   "outputs": [
    {
     "name": "stdout",
     "output_type": "stream",
     "text": [
      "0        2019-01-01 00:00:00\n",
      "1        2019-01-01 00:00:00\n",
      "2        2019-01-01 00:00:00\n",
      "3        2019-01-01 00:00:00\n",
      "4        2019-01-01 00:00:00\n",
      "                ...         \n",
      "23780    2021-12-31 00:00:00\n",
      "23781    2021-12-31 00:00:00\n",
      "23782    2021-12-31 00:00:00\n",
      "23783    2021-12-31 00:00:00\n",
      "23784              5/17/2020\n",
      "Name: fecha, Length: 23785, dtype: object\n"
     ]
    }
   ],
   "source": [
    "# Ahora puedes imprimir los valores de la columna:\n",
    "print(columna_deseada)\n"
   ]
  },
  {
   "cell_type": "code",
   "execution_count": 33,
   "metadata": {},
   "outputs": [],
   "source": [
    "# Cambiar \"5/17/2020\" a \"2020-05-17\"\n",
    "# Fecha original en formato MM/DD/YYYY\n",
    "df[\"fecha\"] = pd.to_datetime(df[\"fecha\"], format=\"%m/%d/%Y\")"
   ]
  },
  {
   "cell_type": "code",
   "execution_count": 34,
   "metadata": {},
   "outputs": [],
   "source": [
    "# Ahora la columna 'fecha' tiene el formato datetime\n",
    "# Si deseas formatearla como \"YYYY-MM-DD\", puedes hacer lo siguiente:\n",
    "df[\"fecha_formateada\"] = df[\"fecha\"].dt.strftime(\"%Y-%m-%d\")"
   ]
  },
  {
   "cell_type": "code",
   "execution_count": 35,
   "metadata": {},
   "outputs": [
    {
     "data": {
      "text/plain": [
       "array(['2019-01-01', '2019-01-02', '2019-01-03', ..., '2021-12-25',\n",
       "       '2021-12-30', '2021-12-31'], dtype=object)"
      ]
     },
     "execution_count": 35,
     "metadata": {},
     "output_type": "execute_result"
    }
   ],
   "source": [
    "# Imprimir los primeros registros para verificar\n",
    "df[\"fecha_formateada\"].unique()"
   ]
  },
  {
   "cell_type": "code",
   "execution_count": 36,
   "metadata": {},
   "outputs": [],
   "source": [
    "# Supongamos que tienes un DataFrame 'df' con una columna 'fecha_formateada'\n",
    "# Si aún no has convertido la columna a datetime, hazlo primero:\n",
    "df[\"fecha_formateada\"] = pd.to_datetime(df[\"fecha_formateada\"])"
   ]
  },
  {
   "cell_type": "code",
   "execution_count": 37,
   "metadata": {},
   "outputs": [],
   "source": [
    "# Ahora, crea las nuevas columnas para año, mes y día:\n",
    "df['agno'] = df[\"fecha_formateada\"].dt.year\n",
    "df['mes'] = df[\"fecha_formateada\"].dt.month\n",
    "df['dia'] = df[\"fecha_formateada\"].dt.day"
   ]
  },
  {
   "cell_type": "code",
   "execution_count": 38,
   "metadata": {},
   "outputs": [
    {
     "data": {
      "text/plain": [
       "array([datetime.time(9, 0), datetime.time(1, 55), datetime.time(2, 0),\n",
       "       ..., datetime.time(22, 46), datetime.time(0, 57),\n",
       "       datetime.time(6, 38)], dtype=object)"
      ]
     },
     "execution_count": 38,
     "metadata": {},
     "output_type": "execute_result"
    }
   ],
   "source": [
    "# Ver valores únicos\n",
    "df[\"hora\"].unique()"
   ]
  },
  {
   "cell_type": "code",
   "execution_count": 39,
   "metadata": {},
   "outputs": [
    {
     "data": {
      "text/plain": [
       "array([9, 1, 2, 4, 8, 7, 12, 13, 19, 18, 21, 3, 15, 14, 5, 17, 23, 10, 16,\n",
       "       11, 20, 22, 0, 6, 'sd', nan], dtype=object)"
      ]
     },
     "execution_count": 39,
     "metadata": {},
     "output_type": "execute_result"
    }
   ],
   "source": [
    "# Ver valores únicos\n",
    "df[\"franja_hora\"].unique()"
   ]
  },
  {
   "cell_type": "code",
   "execution_count": 40,
   "metadata": {},
   "outputs": [],
   "source": [
    "# La columna 'hora' contiene valores como \"09:00:00\"\n",
    "# Convertir la columna 'hora' a formato datetime\n",
    "df[\"hora\"] = pd.to_datetime(df[\"hora\"], format=\"%H:%M:%S\", errors=\"coerce\")"
   ]
  },
  {
   "cell_type": "code",
   "execution_count": 41,
   "metadata": {},
   "outputs": [],
   "source": [
    "# Extraer de la hora, la franja horaria\n",
    "# Extraer la franja horaria sin los ceros iniciales\n",
    "df[\"franja_hora_new\"] = df[\"hora\"].dt.hour"
   ]
  },
  {
   "cell_type": "code",
   "execution_count": 42,
   "metadata": {},
   "outputs": [
    {
     "data": {
      "text/plain": [
       "array([ 9.,  1.,  2.,  4.,  8.,  7., 12., 13., 19., 18., 21.,  3., 15.,\n",
       "       14.,  5., 17., 23., 10., 16., 11., 20., 22.,  0.,  6., nan])"
      ]
     },
     "execution_count": 42,
     "metadata": {},
     "output_type": "execute_result"
    }
   ],
   "source": [
    "df[\"franja_hora_new\"].unique()"
   ]
  },
  {
   "cell_type": "code",
   "execution_count": 43,
   "metadata": {},
   "outputs": [],
   "source": [
    "# Queremos reemplazar los valores NaN por cero\n",
    "df[\"franja_hora_new\"] = df[\"franja_hora_new\"].fillna(0)"
   ]
  },
  {
   "cell_type": "code",
   "execution_count": 44,
   "metadata": {},
   "outputs": [],
   "source": [
    "# Cambiar float por int\n",
    "df[\"franja_hora_new\"] = df[\"franja_hora_new\"].astype(int)"
   ]
  },
  {
   "cell_type": "code",
   "execution_count": 46,
   "metadata": {},
   "outputs": [
    {
     "data": {
      "text/plain": [
       "array(['SD', 'PAZ, GRAL. AV. y ACHA, MARIANO, GRAL.',\n",
       "       'DEL LIBERTADOR AV. 100', ...,\n",
       "       'BELAUSTEGUI, LUIS, DR. y GONZALEZ, JOAQUIN V.', 'VIEL 276',\n",
       "       'ALBERDI, JUAN BAUTISTA AV. 4436'], dtype=object)"
      ]
     },
     "execution_count": 46,
     "metadata": {},
     "output_type": "execute_result"
    }
   ],
   "source": [
    "# Ver valores únicos\n",
    "df[\"direccion_normalizada\"].unique()"
   ]
  },
  {
   "cell_type": "code",
   "execution_count": 47,
   "metadata": {},
   "outputs": [
    {
     "data": {
      "text/plain": [
       "array([14, 8, 7, 3, 15, 11, 9, 1, 4, 12, 2, 5, 6, 13, 10,\n",
       "       'No Especificada', nan, 'SD'], dtype=object)"
      ]
     },
     "execution_count": 47,
     "metadata": {},
     "output_type": "execute_result"
    }
   ],
   "source": [
    "# Ver valores únicos\n",
    "df[\"comuna\"].unique()"
   ]
  },
  {
   "cell_type": "code",
   "execution_count": 48,
   "metadata": {},
   "outputs": [],
   "source": [
    "# Queremos reemplazar los valores NaN por cero\n",
    "df[\"comuna\"] = df[\"comuna\"].fillna(0)"
   ]
  },
  {
   "cell_type": "code",
   "execution_count": 49,
   "metadata": {},
   "outputs": [
    {
     "data": {
      "text/plain": [
       "array([14, 8, 7, 3, 15, 11, 9, 1, 4, 12, 2, 5, 6, 13, 10,\n",
       "       'No Especificada', 0, 'SD'], dtype=object)"
      ]
     },
     "execution_count": 49,
     "metadata": {},
     "output_type": "execute_result"
    }
   ],
   "source": [
    "# Ver valores únicos\n",
    "df[\"comuna\"].unique()"
   ]
  },
  {
   "cell_type": "code",
   "execution_count": 50,
   "metadata": {},
   "outputs": [],
   "source": [
    "# Supongamos que tienes un DataFrame llamado 'df' con una columna 'mi_columna'\n",
    "# Queremos cambiar el valor 'antiguo_valor' por 'nuevo_valor'\n",
    "df[\"comuna\"] = df[\"comuna\"].replace(\"No Especificada\", 0)\n",
    "df[\"comuna\"] = df[\"comuna\"].replace(\"SD\", 0)"
   ]
  },
  {
   "cell_type": "code",
   "execution_count": 51,
   "metadata": {},
   "outputs": [
    {
     "data": {
      "text/plain": [
       "array([14,  8,  7,  3, 15, 11,  9,  1,  4, 12,  2,  5,  6, 13, 10,  0],\n",
       "      dtype=int64)"
      ]
     },
     "execution_count": 51,
     "metadata": {},
     "output_type": "execute_result"
    }
   ],
   "source": [
    "# Ver valores únicos\n",
    "df[\"comuna\"].unique()"
   ]
  },
  {
   "cell_type": "code",
   "execution_count": 52,
   "metadata": {},
   "outputs": [
    {
     "data": {
      "text/plain": [
       "array(['SD', 'AVENIDA', 'CALLE', 'GRAL PAZ', 'AUTOPISTA'], dtype=object)"
      ]
     },
     "execution_count": 52,
     "metadata": {},
     "output_type": "execute_result"
    }
   ],
   "source": [
    "# Ver valores únicos\n",
    "df[\"tipo_calle\"].unique()"
   ]
  },
  {
   "cell_type": "code",
   "execution_count": 53,
   "metadata": {},
   "outputs": [],
   "source": [
    "# Cambiar algunos valores de tipo de calle\n",
    "df[\"tipo_calle\"] = df[\"tipo_calle\"].replace(\"GRAL PAZ\", \"AVENIDA\")\n",
    "df[\"tipo_calle\"] = df[\"tipo_calle\"].replace(\"SD\", 0)"
   ]
  },
  {
   "cell_type": "code",
   "execution_count": 54,
   "metadata": {},
   "outputs": [
    {
     "data": {
      "text/plain": [
       "array([0, 'AVENIDA', 'CALLE', 'AUTOPISTA'], dtype=object)"
      ]
     },
     "execution_count": 54,
     "metadata": {},
     "output_type": "execute_result"
    }
   ],
   "source": [
    "# Ver valores únicos\n",
    "df[\"tipo_calle\"].unique()"
   ]
  },
  {
   "cell_type": "code",
   "execution_count": 55,
   "metadata": {},
   "outputs": [
    {
     "data": {
      "text/plain": [
       "array(['Obligado Rafael, Av.Costanera 3300, Barrio: Palermo  , jurisdicción comisaria:  Vecinal 14C',\n",
       "       'Autopista Presidente Héctor J. Cámpora y Roca, Cnel. Av. 0, Barrio: Villa Soldati  , jurisdicción comisaria:  Vecinal 8B',\n",
       "       'Barros Pazos, Jose y Larraya 0, Barrio: Villa Lugano  , jurisdicción comisaria:  Vecinal 8A',\n",
       "       ..., 'Autopista 25 de Mayo km. 5,0 sentido CABA',\n",
       "       'Alvear, Marcelo T. De y Uriburu Jose E., Pres.',\n",
       "       'Barrio Padre Carlos Mugica (Villa 31 bis)'], dtype=object)"
      ]
     },
     "execution_count": 55,
     "metadata": {},
     "output_type": "execute_result"
    }
   ],
   "source": [
    "# Ver valores únicos\n",
    "df[\"otra_direccion\"].unique()"
   ]
  },
  {
   "cell_type": "code",
   "execution_count": 56,
   "metadata": {},
   "outputs": [
    {
     "data": {
      "text/plain": [
       "array([nan, 'PAZ, GRAL. AV.', 'DEL LIBERTADOR AV.', ...,\n",
       "       'GUTIERREZ, JUAN MARIA', 'BAZURCO', 'DERQUI AV.'], dtype=object)"
      ]
     },
     "execution_count": 56,
     "metadata": {},
     "output_type": "execute_result"
    }
   ],
   "source": [
    "# Ver valores únicos\n",
    "df[\"calle\"].unique()"
   ]
  },
  {
   "cell_type": "code",
   "execution_count": 57,
   "metadata": {},
   "outputs": [],
   "source": [
    "# Queremos reemplazar los valores NaN por cero\n",
    "df[\"calle\"] = df[\"calle\"].fillna(0)"
   ]
  },
  {
   "cell_type": "code",
   "execution_count": 58,
   "metadata": {},
   "outputs": [
    {
     "data": {
      "text/plain": [
       "id                           0\n",
       "n_victimas                   0\n",
       "aaaa                         0\n",
       "mm                           0\n",
       "dd                           0\n",
       "fecha                        0\n",
       "hora                      5654\n",
       "franja_hora                  5\n",
       "direccion_normalizada       53\n",
       "comuna                       0\n",
       "tipo_calle                   0\n",
       "otra_direccion               0\n",
       "calle                        0\n",
       "altura                   11014\n",
       "cruce                    14378\n",
       "geocodificacion_CABA        39\n",
       "longitud                   262\n",
       "latutid                    262\n",
       "victima                      0\n",
       "acusado                      0\n",
       "participantes                0\n",
       "moto                        93\n",
       "auto                        93\n",
       "transporte_publico          93\n",
       "camion                      93\n",
       "ciclista                    93\n",
       "gravedad                     0\n",
       "fecha_formateada             0\n",
       "agno                         0\n",
       "mes                          0\n",
       "dia                          0\n",
       "franja_hora_new              0\n",
       "dtype: int64"
      ]
     },
     "execution_count": 58,
     "metadata": {},
     "output_type": "execute_result"
    }
   ],
   "source": [
    "# Ver valores únicos\n",
    "df.isnull().sum()"
   ]
  },
  {
   "cell_type": "code",
   "execution_count": 59,
   "metadata": {},
   "outputs": [
    {
     "data": {
      "text/plain": [
       "array([   nan,   100.,   568., ...,   929., 11500.,   276.])"
      ]
     },
     "execution_count": 59,
     "metadata": {},
     "output_type": "execute_result"
    }
   ],
   "source": [
    "# Ver valores únicos\n",
    "df[\"altura\"].unique()"
   ]
  },
  {
   "cell_type": "code",
   "execution_count": 60,
   "metadata": {},
   "outputs": [
    {
     "data": {
      "text/plain": [
       "array([nan, 'ACHA, MARIANO, GRAL.', 'GIRIBONE', ..., 'PODESTA, JOSE J.',\n",
       "       'RIO LIMAY', 'LARRAZABAL AV.'], dtype=object)"
      ]
     },
     "execution_count": 60,
     "metadata": {},
     "output_type": "execute_result"
    }
   ],
   "source": [
    "# Ver valores únicos\n",
    "df[\"cruce\"].unique()"
   ]
  },
  {
   "cell_type": "code",
   "execution_count": 61,
   "metadata": {},
   "outputs": [],
   "source": [
    "# Queremos reemplazar los valores NaN por cero\n",
    "df[\"altura\"] = df[\"altura\"].fillna(0)\n",
    "df[\"cruce\"] = df[\"cruce\"].fillna(0)"
   ]
  },
  {
   "cell_type": "code",
   "execution_count": 62,
   "metadata": {},
   "outputs": [
    {
     "data": {
      "text/plain": [
       "39"
      ]
     },
     "execution_count": 62,
     "metadata": {},
     "output_type": "execute_result"
    }
   ],
   "source": [
    "# Ver nulos\n",
    "df[\"geocodificacion_CABA\"].isnull().sum()  "
   ]
  },
  {
   "cell_type": "code",
   "execution_count": 63,
   "metadata": {},
   "outputs": [
    {
     "data": {
      "text/plain": [
       "Index(['id', 'n_victimas', 'aaaa', 'mm', 'dd', 'fecha', 'hora', 'franja_hora',\n",
       "       'direccion_normalizada', 'comuna', 'tipo_calle', 'otra_direccion',\n",
       "       'calle', 'altura', 'cruce', 'geocodificacion_CABA', 'longitud',\n",
       "       'latutid', 'victima', 'acusado', 'participantes', 'moto', 'auto',\n",
       "       'transporte_publico', 'camion', 'ciclista', 'gravedad',\n",
       "       'fecha_formateada', 'agno', 'mes', 'dia', 'franja_hora_new'],\n",
       "      dtype='object')"
      ]
     },
     "execution_count": 63,
     "metadata": {},
     "output_type": "execute_result"
    }
   ],
   "source": [
    "df.columns"
   ]
  },
  {
   "cell_type": "code",
   "execution_count": 64,
   "metadata": {},
   "outputs": [],
   "source": [
    "# Nueva DF\n",
    "columnas_deseadas = [\"id\", \"n_victimas\", \"agno\", \"mes\", \"dia\", \"franja_hora_new\", \"comuna\",\n",
    "                     \"geocodificacion_CABA\", \"longitud\", \"latutid\", \"victima\", \"acusado\",\n",
    "                     \"participantes\", \"moto\", \"auto\", \"transporte_publico\", \"camion\",\n",
    "                     \"ciclista\", \"gravedad\"]\n",
    "nueva_df = df[columnas_deseadas]"
   ]
  },
  {
   "cell_type": "code",
   "execution_count": 65,
   "metadata": {},
   "outputs": [
    {
     "name": "stdout",
     "output_type": "stream",
     "text": [
      "<class 'pandas.core.frame.DataFrame'>\n",
      "RangeIndex: 23785 entries, 0 to 23784\n",
      "Data columns (total 19 columns):\n",
      " #   Column                Non-Null Count  Dtype \n",
      "---  ------                --------------  ----- \n",
      " 0   id                    23785 non-null  object\n",
      " 1   n_victimas            23785 non-null  int64 \n",
      " 2   agno                  23785 non-null  int32 \n",
      " 3   mes                   23785 non-null  int32 \n",
      " 4   dia                   23785 non-null  int32 \n",
      " 5   franja_hora_new       23785 non-null  int32 \n",
      " 6   comuna                23785 non-null  int64 \n",
      " 7   geocodificacion_CABA  23746 non-null  object\n",
      " 8   longitud              23523 non-null  object\n",
      " 9   latutid               23523 non-null  object\n",
      " 10  victima               23785 non-null  object\n",
      " 11  acusado               23785 non-null  object\n",
      " 12  participantes         23785 non-null  object\n",
      " 13  moto                  23692 non-null  object\n",
      " 14  auto                  23692 non-null  object\n",
      " 15  transporte_publico    23692 non-null  object\n",
      " 16  camion                23692 non-null  object\n",
      " 17  ciclista              23692 non-null  object\n",
      " 18  gravedad              23785 non-null  object\n",
      "dtypes: int32(4), int64(2), object(13)\n",
      "memory usage: 3.1+ MB\n"
     ]
    }
   ],
   "source": [
    "nueva_df.info()"
   ]
  },
  {
   "cell_type": "code",
   "execution_count": 66,
   "metadata": {},
   "outputs": [
    {
     "data": {
      "text/plain": [
       "id                        0\n",
       "n_victimas                0\n",
       "agno                      0\n",
       "mes                       0\n",
       "dia                       0\n",
       "franja_hora_new           0\n",
       "comuna                    0\n",
       "geocodificacion_CABA     39\n",
       "longitud                262\n",
       "latutid                 262\n",
       "victima                   0\n",
       "acusado                   0\n",
       "participantes             0\n",
       "moto                     93\n",
       "auto                     93\n",
       "transporte_publico       93\n",
       "camion                   93\n",
       "ciclista                 93\n",
       "gravedad                  0\n",
       "dtype: int64"
      ]
     },
     "execution_count": 66,
     "metadata": {},
     "output_type": "execute_result"
    }
   ],
   "source": [
    "nueva_df.isnull().sum()"
   ]
  },
  {
   "cell_type": "code",
   "execution_count": 67,
   "metadata": {},
   "outputs": [
    {
     "name": "stderr",
     "output_type": "stream",
     "text": [
      "C:\\Users\\56988\\AppData\\Local\\Temp\\ipykernel_14356\\2017032475.py:2: SettingWithCopyWarning: \n",
      "A value is trying to be set on a copy of a slice from a DataFrame.\n",
      "Try using .loc[row_indexer,col_indexer] = value instead\n",
      "\n",
      "See the caveats in the documentation: https://pandas.pydata.org/pandas-docs/stable/user_guide/indexing.html#returning-a-view-versus-a-copy\n",
      "  nueva_df[\"moto\"] = nueva_df[\"moto\"].fillna(0)\n",
      "C:\\Users\\56988\\AppData\\Local\\Temp\\ipykernel_14356\\2017032475.py:3: SettingWithCopyWarning: \n",
      "A value is trying to be set on a copy of a slice from a DataFrame.\n",
      "Try using .loc[row_indexer,col_indexer] = value instead\n",
      "\n",
      "See the caveats in the documentation: https://pandas.pydata.org/pandas-docs/stable/user_guide/indexing.html#returning-a-view-versus-a-copy\n",
      "  nueva_df[\"auto\"] = nueva_df[\"auto\"].fillna(0)\n",
      "C:\\Users\\56988\\AppData\\Local\\Temp\\ipykernel_14356\\2017032475.py:4: SettingWithCopyWarning: \n",
      "A value is trying to be set on a copy of a slice from a DataFrame.\n",
      "Try using .loc[row_indexer,col_indexer] = value instead\n",
      "\n",
      "See the caveats in the documentation: https://pandas.pydata.org/pandas-docs/stable/user_guide/indexing.html#returning-a-view-versus-a-copy\n",
      "  nueva_df[\"transporte_publico\"] = nueva_df[\"transporte_publico\"].fillna(0)\n",
      "C:\\Users\\56988\\AppData\\Local\\Temp\\ipykernel_14356\\2017032475.py:5: SettingWithCopyWarning: \n",
      "A value is trying to be set on a copy of a slice from a DataFrame.\n",
      "Try using .loc[row_indexer,col_indexer] = value instead\n",
      "\n",
      "See the caveats in the documentation: https://pandas.pydata.org/pandas-docs/stable/user_guide/indexing.html#returning-a-view-versus-a-copy\n",
      "  nueva_df[\"camion\"] = nueva_df[\"camion\"].fillna(0)\n",
      "C:\\Users\\56988\\AppData\\Local\\Temp\\ipykernel_14356\\2017032475.py:6: SettingWithCopyWarning: \n",
      "A value is trying to be set on a copy of a slice from a DataFrame.\n",
      "Try using .loc[row_indexer,col_indexer] = value instead\n",
      "\n",
      "See the caveats in the documentation: https://pandas.pydata.org/pandas-docs/stable/user_guide/indexing.html#returning-a-view-versus-a-copy\n",
      "  nueva_df[\"ciclista\"] = nueva_df[\"ciclista\"].fillna(0)\n",
      "C:\\Users\\56988\\AppData\\Local\\Temp\\ipykernel_14356\\2017032475.py:8: SettingWithCopyWarning: \n",
      "A value is trying to be set on a copy of a slice from a DataFrame.\n",
      "Try using .loc[row_indexer,col_indexer] = value instead\n",
      "\n",
      "See the caveats in the documentation: https://pandas.pydata.org/pandas-docs/stable/user_guide/indexing.html#returning-a-view-versus-a-copy\n",
      "  nueva_df[\"geocodificacion_CABA\"] = nueva_df[\"geocodificacion_CABA\"].fillna(0)\n",
      "C:\\Users\\56988\\AppData\\Local\\Temp\\ipykernel_14356\\2017032475.py:9: SettingWithCopyWarning: \n",
      "A value is trying to be set on a copy of a slice from a DataFrame.\n",
      "Try using .loc[row_indexer,col_indexer] = value instead\n",
      "\n",
      "See the caveats in the documentation: https://pandas.pydata.org/pandas-docs/stable/user_guide/indexing.html#returning-a-view-versus-a-copy\n",
      "  nueva_df[\"longitud\"] = nueva_df[\"longitud\"].fillna(0)\n",
      "C:\\Users\\56988\\AppData\\Local\\Temp\\ipykernel_14356\\2017032475.py:10: SettingWithCopyWarning: \n",
      "A value is trying to be set on a copy of a slice from a DataFrame.\n",
      "Try using .loc[row_indexer,col_indexer] = value instead\n",
      "\n",
      "See the caveats in the documentation: https://pandas.pydata.org/pandas-docs/stable/user_guide/indexing.html#returning-a-view-versus-a-copy\n",
      "  nueva_df[\"latutid\"] = nueva_df[\"latutid\"].fillna(0)\n"
     ]
    }
   ],
   "source": [
    "# Queremos reemplazar los valores NaN por cero\n",
    "nueva_df[\"moto\"] = nueva_df[\"moto\"].fillna(0)\n",
    "nueva_df[\"auto\"] = nueva_df[\"auto\"].fillna(0)\n",
    "nueva_df[\"transporte_publico\"] = nueva_df[\"transporte_publico\"].fillna(0)\n",
    "nueva_df[\"camion\"] = nueva_df[\"camion\"].fillna(0)\n",
    "nueva_df[\"ciclista\"] = nueva_df[\"ciclista\"].fillna(0)\n",
    "\n",
    "nueva_df[\"geocodificacion_CABA\"] = nueva_df[\"geocodificacion_CABA\"].fillna(0)\n",
    "nueva_df[\"longitud\"] = nueva_df[\"longitud\"].fillna(0)\n",
    "nueva_df[\"latutid\"] = nueva_df[\"latutid\"].fillna(0)"
   ]
  },
  {
   "cell_type": "code",
   "execution_count": 68,
   "metadata": {},
   "outputs": [
    {
     "data": {
      "text/plain": [
       "id                      0\n",
       "n_victimas              0\n",
       "agno                    0\n",
       "mes                     0\n",
       "dia                     0\n",
       "franja_hora_new         0\n",
       "comuna                  0\n",
       "geocodificacion_CABA    0\n",
       "longitud                0\n",
       "latutid                 0\n",
       "victima                 0\n",
       "acusado                 0\n",
       "participantes           0\n",
       "moto                    0\n",
       "auto                    0\n",
       "transporte_publico      0\n",
       "camion                  0\n",
       "ciclista                0\n",
       "gravedad                0\n",
       "dtype: int64"
      ]
     },
     "execution_count": 68,
     "metadata": {},
     "output_type": "execute_result"
    }
   ],
   "source": [
    "nueva_df.isnull().sum()"
   ]
  },
  {
   "cell_type": "code",
   "execution_count": 69,
   "metadata": {},
   "outputs": [
    {
     "data": {
      "text/plain": [
       "array(['CICLISTA', 'AUTO', 'SD', 'PEATON', 'MOTO', 'TRANSPORTE PUBLICO',\n",
       "       'CAMIONETA', 'MOVIL', 'OTRO', 'CAMION', 'MONOPATIN', 'UTILITARIO',\n",
       "       'TAXI', 'MIXTO'], dtype=object)"
      ]
     },
     "execution_count": 69,
     "metadata": {},
     "output_type": "execute_result"
    }
   ],
   "source": [
    "nueva_df[\"victima\"].unique()"
   ]
  },
  {
   "cell_type": "code",
   "execution_count": 70,
   "metadata": {},
   "outputs": [
    {
     "data": {
      "text/plain": [
       "array(['SD', 'AUTO', 'CICLISTA', 'MOVIL', 'CAMIONETA', 'MOTO', 'TAXI',\n",
       "       'TRANSPORTE PUBLICO', 'CAMION', 'OBJETO FIJO', 'OTRO',\n",
       "       'UTILITARIO', 'PEATON', 'MONOPATIN'], dtype=object)"
      ]
     },
     "execution_count": 70,
     "metadata": {},
     "output_type": "execute_result"
    }
   ],
   "source": [
    "nueva_df[\"acusado\"].unique()"
   ]
  },
  {
   "cell_type": "code",
   "execution_count": 71,
   "metadata": {},
   "outputs": [
    {
     "data": {
      "text/plain": [
       "array(['CICLISTA-SD', 'AUTO-SD', 'SD-SD', 'PEATON-SD', 'MOTO-SD',\n",
       "       'TRANSPORTE PUBLICO-SD', 'CAMIONETA-SD', 'MOVIL-SD', 'OTRO-SD',\n",
       "       'CAMION-SD', 'MONOPATIN-SD', 'UTILITARIO-SD', 'TAXI-SD',\n",
       "       'CICLISTA-AUTO', 'MOTO-CICLISTA', 'CICLISTA-MOVIL',\n",
       "       'PEATON-CICLISTA', 'CICLISTA-CAMIONETA', 'CICLISTA-MOTO',\n",
       "       'CICLISTA-TAXI', 'CICLISTA-TRANSPORTE PUBLICO', 'CICLISTA-CAMION',\n",
       "       'CICLISTA-OBJETO FIJO', 'CICLISTA-OTRO', 'CICLISTA-CICLISTA',\n",
       "       'CICLISTA-UTILITARIO', 'AUTO-CICLISTA', 'MOTO-OBJETO FIJO',\n",
       "       'AUTO-AUTO', 'AUTO-OBJETO FIJO', 'MOTO-AUTO', 'PEATON-TAXI',\n",
       "       'MOTO-TAXI', 'PEATON-TRANSPORTE PUBLICO',\n",
       "       'TRANSPORTE PUBLICO-TRANSPORTE PUBLICO', 'MOTO-CAMIONETA',\n",
       "       'AUTO-CAMION', 'PEATON-AUTO', 'CAMIONETA-TAXI', 'CAMIONETA-AUTO',\n",
       "       'SD-AUTO', 'PEATON-CAMIONETA', 'MOTO-OTRO', 'AUTO-CAMIONETA',\n",
       "       'TAXI-MOVIL', 'SD-MOTO', 'PEATON-MOTO', 'MOTO-TRANSPORTE PUBLICO',\n",
       "       'MIXTO-TRANSPORTE PUBLICO', 'TRANSPORTE PUBLICO-CAMIONETA',\n",
       "       'MOTO-MOTO', 'MOTO-CAMION', 'SD-TRANSPORTE PUBLICO',\n",
       "       'AUTO-TRANSPORTE PUBLICO', 'MONOPATIN-TAXI', 'AUTO-MOTO',\n",
       "       'TAXI-AUTO', 'TRANSPORTE PUBLICO-MOTO', 'CAMIONETA-CAMIONETA',\n",
       "       'TRANSPORTE PUBLICO-AUTO', 'MOVIL-AUTO', 'CAMION-CAMION',\n",
       "       'MOVIL-TRANSPORTE PUBLICO', 'MIXTO-SD', 'TAXI-CAMION',\n",
       "       'AUTO-MOVIL', 'MIXTO-CAMION', 'AUTO-TAXI', 'CAMION-OBJETO FIJO',\n",
       "       'TAXI-CAMIONETA', 'PEATON-CAMION', 'PEATON-OBJETO FIJO',\n",
       "       'PEATON-MOVIL', 'MOTO-PEATON', 'CAMIONETA-TRANSPORTE PUBLICO',\n",
       "       'TAXI-TRANSPORTE PUBLICO', 'SD-OTRO', 'MONOPATIN-AUTO',\n",
       "       'TAXI-TAXI', 'TRANSPORTE PUBLICO-CAMION', 'CAMIONETA-CAMION',\n",
       "       'CAMION-TRANSPORTE PUBLICO', 'CAMIONETA-MOTO',\n",
       "       'CAMIONETA-OBJETO FIJO', 'PEATON-MONOPATIN', 'MOTO-MOVIL',\n",
       "       'TAXI-OBJETO FIJO', 'PEATON-OTRO', 'TRANSPORTE PUBLICO-TAXI',\n",
       "       'MOVIL-MOTO', 'MIXTO-AUTO', 'MOVIL-CAMION', 'AUTO-OTRO',\n",
       "       'SD-CAMION', 'SD-CAMIONETA', 'SD-OBJETO FIJO', 'MOVIL-CAMIONETA',\n",
       "       'MOVIL-MOVIL', 'MOTO-UTILITARIO', 'PEATON-UTILITARIO',\n",
       "       'AUTO-UTILITARIO', 'UTILITARIO-UTILITARIO', 'UTILITARIO-TAXI',\n",
       "       'MOVIL-UTILITARIO', 'UTILITARIO-CAMION', 'UTILITARIO-AUTO',\n",
       "       'MOVIL-OBJETO FIJO', 'SD-TAXI', 'CAMION-AUTO', 'MOTO-MONOPATIN',\n",
       "       'MIXTO-MOTO', 'TAXI-MOTO', 'MONOPATIN-TRANSPORTE PUBLICO',\n",
       "       'MIXTO-TAXI', 'OTRO-AUTO', 'MONOPATIN-OBJETO FIJO',\n",
       "       'CICLISTA-PEATON', 'TRANSPORTE PUBLICO-CICLISTA',\n",
       "       'MONOPATIN-CICLISTA', 'MOVIL-TAXI', 'OTRO-TRANSPORTE PUBLICO',\n",
       "       'MIXTO-CAMIONETA', 'MONOPATIN-MOTO', 'SD-MOVIL',\n",
       "       'MONOPATIN-CAMIONETA', 'OTRO-CAMION',\n",
       "       'TRANSPORTE PUBLICO-OBJETO FIJO', 'CAMION-MOTO'], dtype=object)"
      ]
     },
     "execution_count": 71,
     "metadata": {},
     "output_type": "execute_result"
    }
   ],
   "source": [
    "nueva_df[\"participantes\"].unique()"
   ]
  },
  {
   "cell_type": "code",
   "execution_count": 72,
   "metadata": {},
   "outputs": [
    {
     "data": {
      "text/plain": [
       "array(['SD', 'x', 0], dtype=object)"
      ]
     },
     "execution_count": 72,
     "metadata": {},
     "output_type": "execute_result"
    }
   ],
   "source": [
    "nueva_df[\"moto\"].unique()"
   ]
  },
  {
   "cell_type": "code",
   "execution_count": 73,
   "metadata": {},
   "outputs": [
    {
     "data": {
      "text/plain": [
       "array(['SD', 'x', 0], dtype=object)"
      ]
     },
     "execution_count": 73,
     "metadata": {},
     "output_type": "execute_result"
    }
   ],
   "source": [
    "nueva_df[\"auto\"].unique()"
   ]
  },
  {
   "cell_type": "code",
   "execution_count": 74,
   "metadata": {},
   "outputs": [
    {
     "data": {
      "text/plain": [
       "array(['SD', 'x', 0], dtype=object)"
      ]
     },
     "execution_count": 74,
     "metadata": {},
     "output_type": "execute_result"
    }
   ],
   "source": [
    "nueva_df[\"transporte_publico\"].unique()"
   ]
  },
  {
   "cell_type": "code",
   "execution_count": 75,
   "metadata": {},
   "outputs": [
    {
     "data": {
      "text/plain": [
       "array(['SD', 'x', 0], dtype=object)"
      ]
     },
     "execution_count": 75,
     "metadata": {},
     "output_type": "execute_result"
    }
   ],
   "source": [
    "nueva_df[\"camion\"].unique()"
   ]
  },
  {
   "cell_type": "code",
   "execution_count": 76,
   "metadata": {},
   "outputs": [
    {
     "data": {
      "text/plain": [
       "array(['x', 'SD', 0], dtype=object)"
      ]
     },
     "execution_count": 76,
     "metadata": {},
     "output_type": "execute_result"
    }
   ],
   "source": [
    "nueva_df[\"ciclista\"].unique()"
   ]
  },
  {
   "cell_type": "code",
   "execution_count": 77,
   "metadata": {},
   "outputs": [
    {
     "data": {
      "text/plain": [
       "array(['SD', 'GRAVE', 'sd', 'FATAL', 'grave'], dtype=object)"
      ]
     },
     "execution_count": 77,
     "metadata": {},
     "output_type": "execute_result"
    }
   ],
   "source": [
    "nueva_df[\"gravedad\"].unique()"
   ]
  },
  {
   "cell_type": "code",
   "execution_count": 78,
   "metadata": {},
   "outputs": [
    {
     "name": "stderr",
     "output_type": "stream",
     "text": [
      "C:\\Users\\56988\\AppData\\Local\\Temp\\ipykernel_14356\\4258331006.py:2: SettingWithCopyWarning: \n",
      "A value is trying to be set on a copy of a slice from a DataFrame.\n",
      "Try using .loc[row_indexer,col_indexer] = value instead\n",
      "\n",
      "See the caveats in the documentation: https://pandas.pydata.org/pandas-docs/stable/user_guide/indexing.html#returning-a-view-versus-a-copy\n",
      "  nueva_df[\"moto\"] = nueva_df[\"moto\"].replace(\"SD\", 0)\n",
      "C:\\Users\\56988\\AppData\\Local\\Temp\\ipykernel_14356\\4258331006.py:3: SettingWithCopyWarning: \n",
      "A value is trying to be set on a copy of a slice from a DataFrame.\n",
      "Try using .loc[row_indexer,col_indexer] = value instead\n",
      "\n",
      "See the caveats in the documentation: https://pandas.pydata.org/pandas-docs/stable/user_guide/indexing.html#returning-a-view-versus-a-copy\n",
      "  nueva_df[\"moto\"] = nueva_df[\"moto\"].replace(\"x\", 1)\n",
      "C:\\Users\\56988\\AppData\\Local\\Temp\\ipykernel_14356\\4258331006.py:5: SettingWithCopyWarning: \n",
      "A value is trying to be set on a copy of a slice from a DataFrame.\n",
      "Try using .loc[row_indexer,col_indexer] = value instead\n",
      "\n",
      "See the caveats in the documentation: https://pandas.pydata.org/pandas-docs/stable/user_guide/indexing.html#returning-a-view-versus-a-copy\n",
      "  nueva_df[\"auto\"] = nueva_df[\"auto\"].replace(\"SD\", 0)\n",
      "C:\\Users\\56988\\AppData\\Local\\Temp\\ipykernel_14356\\4258331006.py:6: SettingWithCopyWarning: \n",
      "A value is trying to be set on a copy of a slice from a DataFrame.\n",
      "Try using .loc[row_indexer,col_indexer] = value instead\n",
      "\n",
      "See the caveats in the documentation: https://pandas.pydata.org/pandas-docs/stable/user_guide/indexing.html#returning-a-view-versus-a-copy\n",
      "  nueva_df[\"auto\"] = nueva_df[\"auto\"].replace(\"x\", 1)\n",
      "C:\\Users\\56988\\AppData\\Local\\Temp\\ipykernel_14356\\4258331006.py:8: SettingWithCopyWarning: \n",
      "A value is trying to be set on a copy of a slice from a DataFrame.\n",
      "Try using .loc[row_indexer,col_indexer] = value instead\n",
      "\n",
      "See the caveats in the documentation: https://pandas.pydata.org/pandas-docs/stable/user_guide/indexing.html#returning-a-view-versus-a-copy\n",
      "  nueva_df[\"transporte_publico\"] = nueva_df[\"transporte_publico\"].replace(\"SD\", 0)\n",
      "C:\\Users\\56988\\AppData\\Local\\Temp\\ipykernel_14356\\4258331006.py:9: SettingWithCopyWarning: \n",
      "A value is trying to be set on a copy of a slice from a DataFrame.\n",
      "Try using .loc[row_indexer,col_indexer] = value instead\n",
      "\n",
      "See the caveats in the documentation: https://pandas.pydata.org/pandas-docs/stable/user_guide/indexing.html#returning-a-view-versus-a-copy\n",
      "  nueva_df[\"transporte_publico\"] = nueva_df[\"transporte_publico\"].replace(\"x\", 1)\n",
      "C:\\Users\\56988\\AppData\\Local\\Temp\\ipykernel_14356\\4258331006.py:11: SettingWithCopyWarning: \n",
      "A value is trying to be set on a copy of a slice from a DataFrame.\n",
      "Try using .loc[row_indexer,col_indexer] = value instead\n",
      "\n",
      "See the caveats in the documentation: https://pandas.pydata.org/pandas-docs/stable/user_guide/indexing.html#returning-a-view-versus-a-copy\n",
      "  nueva_df[\"camion\"] = nueva_df[\"camion\"].replace(\"SD\", 0)\n",
      "C:\\Users\\56988\\AppData\\Local\\Temp\\ipykernel_14356\\4258331006.py:12: SettingWithCopyWarning: \n",
      "A value is trying to be set on a copy of a slice from a DataFrame.\n",
      "Try using .loc[row_indexer,col_indexer] = value instead\n",
      "\n",
      "See the caveats in the documentation: https://pandas.pydata.org/pandas-docs/stable/user_guide/indexing.html#returning-a-view-versus-a-copy\n",
      "  nueva_df[\"camion\"] = nueva_df[\"camion\"].replace(\"x\", 1)\n",
      "C:\\Users\\56988\\AppData\\Local\\Temp\\ipykernel_14356\\4258331006.py:14: SettingWithCopyWarning: \n",
      "A value is trying to be set on a copy of a slice from a DataFrame.\n",
      "Try using .loc[row_indexer,col_indexer] = value instead\n",
      "\n",
      "See the caveats in the documentation: https://pandas.pydata.org/pandas-docs/stable/user_guide/indexing.html#returning-a-view-versus-a-copy\n",
      "  nueva_df[\"ciclista\"] = nueva_df[\"ciclista\"].replace(\"SD\", 0)\n",
      "C:\\Users\\56988\\AppData\\Local\\Temp\\ipykernel_14356\\4258331006.py:15: SettingWithCopyWarning: \n",
      "A value is trying to be set on a copy of a slice from a DataFrame.\n",
      "Try using .loc[row_indexer,col_indexer] = value instead\n",
      "\n",
      "See the caveats in the documentation: https://pandas.pydata.org/pandas-docs/stable/user_guide/indexing.html#returning-a-view-versus-a-copy\n",
      "  nueva_df[\"ciclista\"] = nueva_df[\"ciclista\"].replace(\"x\", 1)\n",
      "C:\\Users\\56988\\AppData\\Local\\Temp\\ipykernel_14356\\4258331006.py:17: SettingWithCopyWarning: \n",
      "A value is trying to be set on a copy of a slice from a DataFrame.\n",
      "Try using .loc[row_indexer,col_indexer] = value instead\n",
      "\n",
      "See the caveats in the documentation: https://pandas.pydata.org/pandas-docs/stable/user_guide/indexing.html#returning-a-view-versus-a-copy\n",
      "  nueva_df[\"gravedad\"] = nueva_df[\"gravedad\"].replace(\"SD\", 0)\n",
      "C:\\Users\\56988\\AppData\\Local\\Temp\\ipykernel_14356\\4258331006.py:18: SettingWithCopyWarning: \n",
      "A value is trying to be set on a copy of a slice from a DataFrame.\n",
      "Try using .loc[row_indexer,col_indexer] = value instead\n",
      "\n",
      "See the caveats in the documentation: https://pandas.pydata.org/pandas-docs/stable/user_guide/indexing.html#returning-a-view-versus-a-copy\n",
      "  nueva_df[\"gravedad\"] = nueva_df[\"gravedad\"].replace(\"sd\", 0)\n",
      "C:\\Users\\56988\\AppData\\Local\\Temp\\ipykernel_14356\\4258331006.py:19: SettingWithCopyWarning: \n",
      "A value is trying to be set on a copy of a slice from a DataFrame.\n",
      "Try using .loc[row_indexer,col_indexer] = value instead\n",
      "\n",
      "See the caveats in the documentation: https://pandas.pydata.org/pandas-docs/stable/user_guide/indexing.html#returning-a-view-versus-a-copy\n",
      "  nueva_df[\"gravedad\"] = nueva_df[\"gravedad\"].replace(\"grave\", \"GRAVE\")\n"
     ]
    }
   ],
   "source": [
    "# Cambiar algunos valores\n",
    "nueva_df[\"moto\"] = nueva_df[\"moto\"].replace(\"SD\", 0)\n",
    "nueva_df[\"moto\"] = nueva_df[\"moto\"].replace(\"x\", 1)\n",
    "\n",
    "nueva_df[\"auto\"] = nueva_df[\"auto\"].replace(\"SD\", 0)\n",
    "nueva_df[\"auto\"] = nueva_df[\"auto\"].replace(\"x\", 1)\n",
    "\n",
    "nueva_df[\"transporte_publico\"] = nueva_df[\"transporte_publico\"].replace(\"SD\", 0)\n",
    "nueva_df[\"transporte_publico\"] = nueva_df[\"transporte_publico\"].replace(\"x\", 1)\n",
    "\n",
    "nueva_df[\"camion\"] = nueva_df[\"camion\"].replace(\"SD\", 0)\n",
    "nueva_df[\"camion\"] = nueva_df[\"camion\"].replace(\"x\", 1)\n",
    "\n",
    "nueva_df[\"ciclista\"] = nueva_df[\"ciclista\"].replace(\"SD\", 0)\n",
    "nueva_df[\"ciclista\"] = nueva_df[\"ciclista\"].replace(\"x\", 1)\n",
    "\n",
    "nueva_df[\"gravedad\"] = nueva_df[\"gravedad\"].replace(\"SD\", 0)\n",
    "nueva_df[\"gravedad\"] = nueva_df[\"gravedad\"].replace(\"sd\", 0)\n",
    "nueva_df[\"gravedad\"] = nueva_df[\"gravedad\"].replace(\"grave\", \"GRAVE\")"
   ]
  },
  {
   "cell_type": "code",
   "execution_count": 85,
   "metadata": {},
   "outputs": [
    {
     "data": {
      "text/html": [
       "<div>\n",
       "<style scoped>\n",
       "    .dataframe tbody tr th:only-of-type {\n",
       "        vertical-align: middle;\n",
       "    }\n",
       "\n",
       "    .dataframe tbody tr th {\n",
       "        vertical-align: top;\n",
       "    }\n",
       "\n",
       "    .dataframe thead th {\n",
       "        text-align: right;\n",
       "    }\n",
       "</style>\n",
       "<table border=\"1\" class=\"dataframe\">\n",
       "  <thead>\n",
       "    <tr style=\"text-align: right;\">\n",
       "      <th></th>\n",
       "      <th>id</th>\n",
       "      <th>n_victimas</th>\n",
       "      <th>agno</th>\n",
       "      <th>mes</th>\n",
       "      <th>dia</th>\n",
       "      <th>franja_hora_new</th>\n",
       "      <th>comuna</th>\n",
       "      <th>geocodificacion_CABA</th>\n",
       "      <th>longitud</th>\n",
       "      <th>latitud</th>\n",
       "      <th>victima</th>\n",
       "      <th>acusado</th>\n",
       "      <th>participantes</th>\n",
       "      <th>moto</th>\n",
       "      <th>auto</th>\n",
       "      <th>transporte_publico</th>\n",
       "      <th>camion</th>\n",
       "      <th>ciclista</th>\n",
       "      <th>gravedad</th>\n",
       "    </tr>\n",
       "  </thead>\n",
       "  <tbody>\n",
       "    <tr>\n",
       "      <th>23783</th>\n",
       "      <td>LC-2021-0652921</td>\n",
       "      <td>1</td>\n",
       "      <td>2021</td>\n",
       "      <td>12</td>\n",
       "      <td>31</td>\n",
       "      <td>22</td>\n",
       "      <td>5</td>\n",
       "      <td>Point (104472.702045632 101660.930364258)</td>\n",
       "      <td>-58.414532050899</td>\n",
       "      <td>-34.614288229345</td>\n",
       "      <td>MOTO</td>\n",
       "      <td>TRANSPORTE PUBLICO</td>\n",
       "      <td>MOTO-TRANSPORTE PUBLICO</td>\n",
       "      <td>1</td>\n",
       "      <td>0</td>\n",
       "      <td>1</td>\n",
       "      <td>0</td>\n",
       "      <td>0</td>\n",
       "      <td>GRAVE</td>\n",
       "    </tr>\n",
       "    <tr>\n",
       "      <th>23784</th>\n",
       "      <td>LC-2020-0244615</td>\n",
       "      <td>1</td>\n",
       "      <td>2020</td>\n",
       "      <td>5</td>\n",
       "      <td>17</td>\n",
       "      <td>21</td>\n",
       "      <td>0</td>\n",
       "      <td>Point (114990.04979284359433223 88934.67755418...</td>\n",
       "      <td>-5829963273</td>\n",
       "      <td>-3472890716</td>\n",
       "      <td>MOTO</td>\n",
       "      <td>AUTO</td>\n",
       "      <td>MOTO-AUTO</td>\n",
       "      <td>1</td>\n",
       "      <td>1</td>\n",
       "      <td>0</td>\n",
       "      <td>0</td>\n",
       "      <td>0</td>\n",
       "      <td>SD</td>\n",
       "    </tr>\n",
       "  </tbody>\n",
       "</table>\n",
       "</div>"
      ],
      "text/plain": [
       "                    id  n_victimas  agno  mes  dia  franja_hora_new  comuna  \\\n",
       "23783  LC-2021-0652921           1  2021   12   31               22       5   \n",
       "23784  LC-2020-0244615           1  2020    5   17               21       0   \n",
       "\n",
       "                                    geocodificacion_CABA          longitud  \\\n",
       "23783          Point (104472.702045632 101660.930364258)  -58.414532050899   \n",
       "23784  Point (114990.04979284359433223 88934.67755418...       -5829963273   \n",
       "\n",
       "                latitud victima             acusado            participantes  \\\n",
       "23783  -34.614288229345    MOTO  TRANSPORTE PUBLICO  MOTO-TRANSPORTE PUBLICO   \n",
       "23784       -3472890716    MOTO                AUTO                MOTO-AUTO   \n",
       "\n",
       "       moto  auto  transporte_publico  camion  ciclista gravedad  \n",
       "23783     1     0                   1       0         0    GRAVE  \n",
       "23784     1     1                   0       0         0       SD  "
      ]
     },
     "execution_count": 85,
     "metadata": {},
     "output_type": "execute_result"
    }
   ],
   "source": [
    "nueva_df.tail(2)"
   ]
  },
  {
   "cell_type": "code",
   "execution_count": 80,
   "metadata": {},
   "outputs": [
    {
     "data": {
      "text/plain": [
       "array([0, 'GRAVE', 'FATAL'], dtype=object)"
      ]
     },
     "execution_count": 80,
     "metadata": {},
     "output_type": "execute_result"
    }
   ],
   "source": [
    "nueva_df[\"gravedad\"].unique()"
   ]
  },
  {
   "cell_type": "code",
   "execution_count": 81,
   "metadata": {},
   "outputs": [
    {
     "name": "stderr",
     "output_type": "stream",
     "text": [
      "C:\\Users\\56988\\AppData\\Local\\Temp\\ipykernel_14356\\1921158742.py:2: SettingWithCopyWarning: \n",
      "A value is trying to be set on a copy of a slice from a DataFrame.\n",
      "Try using .loc[row_indexer,col_indexer] = value instead\n",
      "\n",
      "See the caveats in the documentation: https://pandas.pydata.org/pandas-docs/stable/user_guide/indexing.html#returning-a-view-versus-a-copy\n",
      "  nueva_df[\"gravedad\"] = nueva_df[\"gravedad\"].replace(0, \"SD\")\n"
     ]
    }
   ],
   "source": [
    "# Cambiar dato\n",
    "nueva_df[\"gravedad\"] = nueva_df[\"gravedad\"].replace(0, \"SD\")"
   ]
  },
  {
   "cell_type": "code",
   "execution_count": 82,
   "metadata": {},
   "outputs": [
    {
     "name": "stderr",
     "output_type": "stream",
     "text": [
      "C:\\Users\\56988\\AppData\\Local\\Temp\\ipykernel_14356\\3069154678.py:2: SettingWithCopyWarning: \n",
      "A value is trying to be set on a copy of a slice from a DataFrame\n",
      "\n",
      "See the caveats in the documentation: https://pandas.pydata.org/pandas-docs/stable/user_guide/indexing.html#returning-a-view-versus-a-copy\n",
      "  nueva_df.rename(columns={\"latutid\": \"latitud\"}, inplace=True)\n"
     ]
    }
   ],
   "source": [
    "# Cambiar el nombre de la columna\n",
    "nueva_df.rename(columns={\"latutid\": \"latitud\"}, inplace=True)"
   ]
  },
  {
   "cell_type": "code",
   "execution_count": 83,
   "metadata": {},
   "outputs": [
    {
     "data": {
      "text/html": [
       "<div>\n",
       "<style scoped>\n",
       "    .dataframe tbody tr th:only-of-type {\n",
       "        vertical-align: middle;\n",
       "    }\n",
       "\n",
       "    .dataframe tbody tr th {\n",
       "        vertical-align: top;\n",
       "    }\n",
       "\n",
       "    .dataframe thead th {\n",
       "        text-align: right;\n",
       "    }\n",
       "</style>\n",
       "<table border=\"1\" class=\"dataframe\">\n",
       "  <thead>\n",
       "    <tr style=\"text-align: right;\">\n",
       "      <th></th>\n",
       "      <th>id</th>\n",
       "      <th>n_victimas</th>\n",
       "      <th>agno</th>\n",
       "      <th>mes</th>\n",
       "      <th>dia</th>\n",
       "      <th>franja_hora_new</th>\n",
       "      <th>comuna</th>\n",
       "      <th>geocodificacion_CABA</th>\n",
       "      <th>longitud</th>\n",
       "      <th>latitud</th>\n",
       "      <th>victima</th>\n",
       "      <th>acusado</th>\n",
       "      <th>participantes</th>\n",
       "      <th>moto</th>\n",
       "      <th>auto</th>\n",
       "      <th>transporte_publico</th>\n",
       "      <th>camion</th>\n",
       "      <th>ciclista</th>\n",
       "      <th>gravedad</th>\n",
       "    </tr>\n",
       "  </thead>\n",
       "  <tbody>\n",
       "    <tr>\n",
       "      <th>0</th>\n",
       "      <td>LC-2019-0000179</td>\n",
       "      <td>1</td>\n",
       "      <td>2019</td>\n",
       "      <td>1</td>\n",
       "      <td>1</td>\n",
       "      <td>9</td>\n",
       "      <td>14</td>\n",
       "      <td>Point (104991.46333918849995825 107720.9664748...</td>\n",
       "      <td>-58.408911</td>\n",
       "      <td>-34.559658</td>\n",
       "      <td>CICLISTA</td>\n",
       "      <td>SD</td>\n",
       "      <td>CICLISTA-SD</td>\n",
       "      <td>0</td>\n",
       "      <td>0</td>\n",
       "      <td>0</td>\n",
       "      <td>0</td>\n",
       "      <td>1</td>\n",
       "      <td>SD</td>\n",
       "    </tr>\n",
       "    <tr>\n",
       "      <th>1</th>\n",
       "      <td>LC-2019-0000053</td>\n",
       "      <td>1</td>\n",
       "      <td>2019</td>\n",
       "      <td>1</td>\n",
       "      <td>1</td>\n",
       "      <td>1</td>\n",
       "      <td>8</td>\n",
       "      <td>Point (101813.84712503915943671 95578.55507230...</td>\n",
       "      <td>-58.44351</td>\n",
       "      <td>-34.669125</td>\n",
       "      <td>AUTO</td>\n",
       "      <td>SD</td>\n",
       "      <td>AUTO-SD</td>\n",
       "      <td>0</td>\n",
       "      <td>1</td>\n",
       "      <td>0</td>\n",
       "      <td>0</td>\n",
       "      <td>0</td>\n",
       "      <td>SD</td>\n",
       "    </tr>\n",
       "  </tbody>\n",
       "</table>\n",
       "</div>"
      ],
      "text/plain": [
       "                id  n_victimas  agno  mes  dia  franja_hora_new  comuna  \\\n",
       "0  LC-2019-0000179           1  2019    1    1                9      14   \n",
       "1  LC-2019-0000053           1  2019    1    1                1       8   \n",
       "\n",
       "                                geocodificacion_CABA    longitud     latitud  \\\n",
       "0  Point (104991.46333918849995825 107720.9664748...  -58.408911  -34.559658   \n",
       "1  Point (101813.84712503915943671 95578.55507230...   -58.44351  -34.669125   \n",
       "\n",
       "    victima acusado participantes  moto  auto  transporte_publico  camion  \\\n",
       "0  CICLISTA      SD   CICLISTA-SD     0     0                   0       0   \n",
       "1      AUTO      SD       AUTO-SD     0     1                   0       0   \n",
       "\n",
       "   ciclista gravedad  \n",
       "0         1       SD  \n",
       "1         0       SD  "
      ]
     },
     "execution_count": 83,
     "metadata": {},
     "output_type": "execute_result"
    }
   ],
   "source": [
    "nueva_df.head(2)"
   ]
  },
  {
   "cell_type": "code",
   "execution_count": 84,
   "metadata": {},
   "outputs": [],
   "source": [
    "# Guardar nueva DF a .csv \n",
    "nueva_df.to_csv(\"df_les_lista.csv\")"
   ]
  }
 ],
 "metadata": {
  "kernelspec": {
   "display_name": "base",
   "language": "python",
   "name": "python3"
  },
  "language_info": {
   "codemirror_mode": {
    "name": "ipython",
    "version": 3
   },
   "file_extension": ".py",
   "mimetype": "text/x-python",
   "name": "python",
   "nbconvert_exporter": "python",
   "pygments_lexer": "ipython3",
   "version": "3.11.5"
  }
 },
 "nbformat": 4,
 "nbformat_minor": 2
}
